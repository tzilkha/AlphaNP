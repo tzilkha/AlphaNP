{
 "cells": [
  {
   "cell_type": "code",
   "execution_count": 1,
   "metadata": {},
   "outputs": [],
   "source": [
    "from MCTS import MCTS\n",
    "from TSP import TSPGame\n",
    "from NETS import RecurrentNN, create_training_set, ConvolutionalNN, GraphConvolutionalNN\n",
    "from EVALUATE import evaluation_run, plot_comparison, create_comparison\n",
    "from SELFPLAY import Coach\n",
    "import matplotlib.pyplot as plt\n",
    "import pandas as pd"
   ]
  },
  {
   "cell_type": "code",
   "execution_count": 2,
   "metadata": {},
   "outputs": [],
   "source": [
    "class dotdict(dict):\n",
    "    def __getattr__(self, name):\n",
    "        return self[name]"
   ]
  },
  {
   "cell_type": "code",
   "execution_count": 3,
   "metadata": {},
   "outputs": [],
   "source": [
    "num_node = 7\n",
    "numAssess = 100\n",
    "numEps = 300\n",
    "validation_split = 0.2\n",
    "numGens = 10\n",
    "patience = 50\n",
    "\n",
    "args = dotdict({\n",
    "    # MCTS args\n",
    "    'numMCTSSims': 500,        # Number of games moves for MCTS to simulate in self-play\n",
    "    'num_node': num_node,              # Number of nodes in the graph (game)\n",
    "    'cpuct': 1,\n",
    "    \n",
    "    # Self Play\n",
    "    'numEps': numEps,\n",
    "    'numAssess': numAssess,\n",
    "    'numGens': numGens,\n",
    "    'winThresh': 1.0           # 1 Thresh means replace on any total improvement\n",
    "\n",
    "    })\n",
    "\n",
    "rnn_args = dotdict({\n",
    "    # State representation\n",
    "    'history': True,           # Whether state representation should be a history of states - used for lstm\n",
    "    'history_length': None,     # If None full history\n",
    "    \n",
    "    # NN args\n",
    "    'lr': 0.001,\n",
    "    'dropout': 0.3,\n",
    "    'epochs': 300,\n",
    "    'batch_size': 64,\n",
    "    'validation_split': validation_split,\n",
    "    'patience': patience\n",
    "    })\n",
    "\n",
    "cnn_args = dotdict({\n",
    "    # State representation\n",
    "    'history': False,           # Whether state representation should be a history of states - used for lstm\n",
    "    \n",
    "    # NN args\n",
    "    'lr': 0.001,\n",
    "    'dropout': 0.3,\n",
    "    'epochs': 300,\n",
    "    'batch_size': 64,\n",
    "    'num_channels': 256,\n",
    "    'validation_split': validation_split,\n",
    "    'patience': patience\n",
    "    })\n",
    "\n",
    "gnn_args = dotdict({\n",
    "    # State representation\n",
    "    'history': False,           # Whether state representation should be a history of states - used for lstm\n",
    "    \n",
    "    # NN args\n",
    "    'lr': 0.001,\n",
    "    'epochs': 500,\n",
    "    'batch_size': 64,\n",
    "    'validation_split': validation_split,\n",
    "    'patience': patience\n",
    "    })\n",
    "\n",
    "gnn_args.update(args)\n",
    "cnn_args.update(args)\n",
    "rnn_args.update(args)"
   ]
  },
  {
   "cell_type": "code",
   "execution_count": null,
   "metadata": {},
   "outputs": [],
   "source": [
    "%%time\n",
    "\n",
    "# Create a optimal dataset from 10000 games\n",
    "dataset = create_training_set(gnn_args, 5000)"
   ]
  },
  {
   "cell_type": "code",
   "execution_count": 4,
   "metadata": {},
   "outputs": [],
   "source": [
    "# Create RNN\n",
    "rnn = RecurrentNN(rnn_args)\n",
    "gnn = GraphConvolutionalNN(gnn_args)\n",
    "cnn = ConvolutionalNN(cnn_args)"
   ]
  },
  {
   "cell_type": "markdown",
   "metadata": {},
   "source": [
    "### Train"
   ]
  },
  {
   "cell_type": "code",
   "execution_count": 5,
   "metadata": {},
   "outputs": [],
   "source": [
    "filename = '7node_5000sample'"
   ]
  },
  {
   "cell_type": "code",
   "execution_count": 16,
   "metadata": {},
   "outputs": [
    {
     "name": "stdout",
     "output_type": "stream",
     "text": [
      "Training...\n",
      "Train on 14400 samples, validate on 3600 samples\n",
      "Epoch 1/200\n",
      "14400/14400 [==============================] - 14s 996us/step - loss: 2.1839 - pi_loss: 1.5144 - v_loss: 0.6694 - val_loss: 1.8459 - val_pi_loss: 1.1808 - val_v_loss: 0.6651\n",
      "Epoch 2/200\n",
      "14400/14400 [==============================] - 10s 676us/step - loss: 1.5266 - pi_loss: 1.2269 - v_loss: 0.2997 - val_loss: 1.1843 - val_pi_loss: 1.1210 - val_v_loss: 0.0633\n",
      "Epoch 3/200\n",
      "14400/14400 [==============================] - 10s 715us/step - loss: 1.2452 - pi_loss: 1.1788 - v_loss: 0.0664 - val_loss: 1.1802 - val_pi_loss: 1.1166 - val_v_loss: 0.0636\n",
      "Epoch 4/200\n",
      "14400/14400 [==============================] - 11s 771us/step - loss: 1.2188 - pi_loss: 1.1552 - v_loss: 0.0636 - val_loss: 1.1653 - val_pi_loss: 1.1113 - val_v_loss: 0.0540\n",
      "Epoch 5/200\n",
      "14400/14400 [==============================] - 10s 728us/step - loss: 1.1995 - pi_loss: 1.1384 - v_loss: 0.0611 - val_loss: 1.1557 - val_pi_loss: 1.1011 - val_v_loss: 0.0545\n",
      "Epoch 6/200\n",
      "14400/14400 [==============================] - 12s 806us/step - loss: 1.1863 - pi_loss: 1.1274 - v_loss: 0.0589 - val_loss: 1.1505 - val_pi_loss: 1.0965 - val_v_loss: 0.0540\n",
      "Epoch 7/200\n",
      "14400/14400 [==============================] - 10s 729us/step - loss: 1.1734 - pi_loss: 1.1150 - v_loss: 0.0584 - val_loss: 1.1577 - val_pi_loss: 1.1051 - val_v_loss: 0.0526\n",
      "Epoch 8/200\n",
      "14400/14400 [==============================] - 11s 795us/step - loss: 1.1671 - pi_loss: 1.1093 - v_loss: 0.0578 - val_loss: 1.1548 - val_pi_loss: 1.1027 - val_v_loss: 0.0521\n",
      "Epoch 9/200\n",
      "14400/14400 [==============================] - 14s 973us/step - loss: 1.1659 - pi_loss: 1.1095 - v_loss: 0.0564 - val_loss: 1.1451 - val_pi_loss: 1.0929 - val_v_loss: 0.0522\n",
      "Epoch 10/200\n",
      "14400/14400 [==============================] - 18s 1ms/step - loss: 1.1561 - pi_loss: 1.1012 - v_loss: 0.0550 - val_loss: 1.1495 - val_pi_loss: 1.0998 - val_v_loss: 0.0497\n",
      "Epoch 11/200\n",
      "14400/14400 [==============================] - 23s 2ms/step - loss: 1.1578 - pi_loss: 1.1031 - v_loss: 0.0547 - val_loss: 1.1526 - val_pi_loss: 1.1014 - val_v_loss: 0.0512\n",
      "Epoch 12/200\n",
      "14400/14400 [==============================] - 26s 2ms/step - loss: 1.1501 - pi_loss: 1.0955 - v_loss: 0.0547 - val_loss: 1.1545 - val_pi_loss: 1.1034 - val_v_loss: 0.0510\n",
      "Epoch 13/200\n",
      "14400/14400 [==============================] - 33s 2ms/step - loss: 1.1458 - pi_loss: 1.0925 - v_loss: 0.0533 - val_loss: 1.1538 - val_pi_loss: 1.1044 - val_v_loss: 0.0494\n",
      "Epoch 14/200\n",
      "14400/14400 [==============================] - 23s 2ms/step - loss: 1.1444 - pi_loss: 1.0913 - v_loss: 0.0531 - val_loss: 1.1339 - val_pi_loss: 1.0841 - val_v_loss: 0.0498\n",
      "Epoch 15/200\n",
      "14400/14400 [==============================] - 20s 1ms/step - loss: 1.1438 - pi_loss: 1.0909 - v_loss: 0.0529 - val_loss: 1.1363 - val_pi_loss: 1.0867 - val_v_loss: 0.0497\n",
      "Epoch 16/200\n",
      "14400/14400 [==============================] - 14s 976us/step - loss: 1.1390 - pi_loss: 1.0861 - v_loss: 0.0529 - val_loss: 1.1442 - val_pi_loss: 1.0916 - val_v_loss: 0.0527\n",
      "Epoch 17/200\n",
      "14400/14400 [==============================] - 25s 2ms/step - loss: 1.1397 - pi_loss: 1.0866 - v_loss: 0.0530 - val_loss: 1.1363 - val_pi_loss: 1.0876 - val_v_loss: 0.0487\n",
      "Epoch 18/200\n",
      "14400/14400 [==============================] - 41s 3ms/step - loss: 1.1348 - pi_loss: 1.0827 - v_loss: 0.0520 - val_loss: 1.1414 - val_pi_loss: 1.0895 - val_v_loss: 0.0519\n",
      "Epoch 19/200\n",
      "14400/14400 [==============================] - 34s 2ms/step - loss: 1.1328 - pi_loss: 1.0807 - v_loss: 0.0521 - val_loss: 1.1488 - val_pi_loss: 1.0988 - val_v_loss: 0.0500\n",
      "Epoch 20/200\n",
      "14400/14400 [==============================] - 26s 2ms/step - loss: 1.1294 - pi_loss: 1.0771 - v_loss: 0.0523 - val_loss: 1.1371 - val_pi_loss: 1.0888 - val_v_loss: 0.0483\n",
      "Epoch 21/200\n",
      "14400/14400 [==============================] - 16s 1ms/step - loss: 1.1290 - pi_loss: 1.0778 - v_loss: 0.0512 - val_loss: 1.1284 - val_pi_loss: 1.0802 - val_v_loss: 0.0482\n",
      "Epoch 22/200\n",
      "14400/14400 [==============================] - 14s 971us/step - loss: 1.1213 - pi_loss: 1.0701 - v_loss: 0.0512 - val_loss: 1.1349 - val_pi_loss: 1.0848 - val_v_loss: 0.0501\n",
      "Epoch 23/200\n",
      "14400/14400 [==============================] - 13s 906us/step - loss: 1.1197 - pi_loss: 1.0684 - v_loss: 0.0513 - val_loss: 1.1274 - val_pi_loss: 1.0788 - val_v_loss: 0.0486\n",
      "Epoch 24/200\n",
      "14400/14400 [==============================] - 12s 861us/step - loss: 1.1179 - pi_loss: 1.0669 - v_loss: 0.0510 - val_loss: 1.1293 - val_pi_loss: 1.0810 - val_v_loss: 0.0483\n",
      "Epoch 25/200\n",
      "14400/14400 [==============================] - 12s 837us/step - loss: 1.1146 - pi_loss: 1.0642 - v_loss: 0.0505 - val_loss: 1.1274 - val_pi_loss: 1.0762 - val_v_loss: 0.0512\n",
      "Epoch 26/200\n",
      "14400/14400 [==============================] - 12s 814us/step - loss: 1.1100 - pi_loss: 1.0592 - v_loss: 0.0508 - val_loss: 1.1296 - val_pi_loss: 1.0799 - val_v_loss: 0.0497\n",
      "Epoch 27/200\n",
      "14400/14400 [==============================] - 12s 808us/step - loss: 1.1048 - pi_loss: 1.0547 - v_loss: 0.0502 - val_loss: 1.1222 - val_pi_loss: 1.0733 - val_v_loss: 0.0489\n",
      "Epoch 28/200\n",
      "14400/14400 [==============================] - 11s 782us/step - loss: 1.1038 - pi_loss: 1.0528 - v_loss: 0.0510 - val_loss: 1.1222 - val_pi_loss: 1.0723 - val_v_loss: 0.0499\n",
      "Epoch 29/200\n",
      "14400/14400 [==============================] - 12s 807us/step - loss: 1.1025 - pi_loss: 1.0523 - v_loss: 0.0503 - val_loss: 1.1041 - val_pi_loss: 1.0553 - val_v_loss: 0.0488\n",
      "Epoch 30/200\n",
      "14400/14400 [==============================] - 11s 784us/step - loss: 1.0949 - pi_loss: 1.0445 - v_loss: 0.0503 - val_loss: 1.1042 - val_pi_loss: 1.0511 - val_v_loss: 0.0532\n",
      "Epoch 31/200\n",
      "14400/14400 [==============================] - 12s 814us/step - loss: 1.0896 - pi_loss: 1.0389 - v_loss: 0.0507 - val_loss: 1.0909 - val_pi_loss: 1.0427 - val_v_loss: 0.0482\n",
      "Epoch 32/200\n",
      "14400/14400 [==============================] - 11s 794us/step - loss: 1.0888 - pi_loss: 1.0386 - v_loss: 0.0501 - val_loss: 1.0936 - val_pi_loss: 1.0433 - val_v_loss: 0.0503\n",
      "Epoch 33/200\n",
      "14400/14400 [==============================] - 12s 799us/step - loss: 1.0816 - pi_loss: 1.0309 - v_loss: 0.0507 - val_loss: 1.0842 - val_pi_loss: 1.0366 - val_v_loss: 0.0477\n",
      "Epoch 34/200\n",
      "14400/14400 [==============================] - 12s 829us/step - loss: 1.0800 - pi_loss: 1.0302 - v_loss: 0.0498 - val_loss: 1.0741 - val_pi_loss: 1.0248 - val_v_loss: 0.0493\n",
      "Epoch 35/200\n",
      "14400/14400 [==============================] - 12s 815us/step - loss: 1.0664 - pi_loss: 1.0165 - v_loss: 0.0499 - val_loss: 1.0756 - val_pi_loss: 1.0277 - val_v_loss: 0.0479\n",
      "Epoch 36/200\n",
      "14400/14400 [==============================] - 12s 851us/step - loss: 1.0615 - pi_loss: 1.0118 - v_loss: 0.0497 - val_loss: 1.0670 - val_pi_loss: 1.0172 - val_v_loss: 0.0498\n",
      "Epoch 37/200\n",
      "14400/14400 [==============================] - 13s 884us/step - loss: 1.0626 - pi_loss: 1.0123 - v_loss: 0.0503 - val_loss: 1.0750 - val_pi_loss: 1.0217 - val_v_loss: 0.0533\n",
      "Epoch 38/200\n",
      "14400/14400 [==============================] - 12s 856us/step - loss: 1.0587 - pi_loss: 1.0081 - v_loss: 0.0505 - val_loss: 1.0609 - val_pi_loss: 1.0112 - val_v_loss: 0.0497\n",
      "Epoch 39/200\n",
      "14400/14400 [==============================] - 12s 854us/step - loss: 1.0547 - pi_loss: 1.0043 - v_loss: 0.0503 - val_loss: 1.0461 - val_pi_loss: 0.9980 - val_v_loss: 0.0481\n",
      "Epoch 40/200\n",
      "14400/14400 [==============================] - 12s 846us/step - loss: 1.0433 - pi_loss: 0.9935 - v_loss: 0.0498 - val_loss: 1.0418 - val_pi_loss: 0.9941 - val_v_loss: 0.0478\n",
      "Epoch 41/200\n",
      "14400/14400 [==============================] - 12s 848us/step - loss: 1.0480 - pi_loss: 0.9983 - v_loss: 0.0497 - val_loss: 1.0425 - val_pi_loss: 0.9941 - val_v_loss: 0.0484\n",
      "Epoch 42/200\n",
      "14400/14400 [==============================] - 12s 847us/step - loss: 1.0401 - pi_loss: 0.9908 - v_loss: 0.0493 - val_loss: 1.0328 - val_pi_loss: 0.9843 - val_v_loss: 0.0485\n",
      "Epoch 43/200\n",
      "14400/14400 [==============================] - 12s 863us/step - loss: 1.0317 - pi_loss: 0.9821 - v_loss: 0.0496 - val_loss: 1.0243 - val_pi_loss: 0.9762 - val_v_loss: 0.0481\n",
      "Epoch 44/200\n",
      "14400/14400 [==============================] - 12s 851us/step - loss: 1.0287 - pi_loss: 0.9795 - v_loss: 0.0492 - val_loss: 1.0352 - val_pi_loss: 0.9869 - val_v_loss: 0.0483\n"
     ]
    },
    {
     "name": "stdout",
     "output_type": "stream",
     "text": [
      "Epoch 45/200\n",
      "14400/14400 [==============================] - 12s 849us/step - loss: 1.0237 - pi_loss: 0.9746 - v_loss: 0.0492 - val_loss: 1.0189 - val_pi_loss: 0.9695 - val_v_loss: 0.0494\n",
      "Epoch 46/200\n",
      "14400/14400 [==============================] - 12s 856us/step - loss: 1.0150 - pi_loss: 0.9657 - v_loss: 0.0493 - val_loss: 1.0250 - val_pi_loss: 0.9751 - val_v_loss: 0.0499\n",
      "Epoch 47/200\n",
      "14400/14400 [==============================] - 13s 883us/step - loss: 1.0124 - pi_loss: 0.9633 - v_loss: 0.0491 - val_loss: 1.0073 - val_pi_loss: 0.9585 - val_v_loss: 0.0488\n",
      "Epoch 48/200\n",
      "14400/14400 [==============================] - 12s 854us/step - loss: 1.0099 - pi_loss: 0.9604 - v_loss: 0.0495 - val_loss: 1.0099 - val_pi_loss: 0.9611 - val_v_loss: 0.0488\n",
      "Epoch 49/200\n",
      "14400/14400 [==============================] - 12s 866us/step - loss: 1.0063 - pi_loss: 0.9565 - v_loss: 0.0499 - val_loss: 1.0129 - val_pi_loss: 0.9648 - val_v_loss: 0.0481\n",
      "Epoch 50/200\n",
      "14400/14400 [==============================] - 12s 818us/step - loss: 0.9951 - pi_loss: 0.9462 - v_loss: 0.0489 - val_loss: 0.9941 - val_pi_loss: 0.9467 - val_v_loss: 0.0474\n",
      "Epoch 51/200\n",
      "14400/14400 [==============================] - 12s 849us/step - loss: 0.9871 - pi_loss: 0.9383 - v_loss: 0.0487 - val_loss: 0.9813 - val_pi_loss: 0.9333 - val_v_loss: 0.0480\n",
      "Epoch 52/200\n",
      "14400/14400 [==============================] - 12s 823us/step - loss: 0.9851 - pi_loss: 0.9367 - v_loss: 0.0484 - val_loss: 0.9801 - val_pi_loss: 0.9309 - val_v_loss: 0.0492\n",
      "Epoch 53/200\n",
      "14400/14400 [==============================] - 12s 846us/step - loss: 0.9770 - pi_loss: 0.9284 - v_loss: 0.0486 - val_loss: 0.9724 - val_pi_loss: 0.9245 - val_v_loss: 0.0479\n",
      "Epoch 54/200\n",
      "14400/14400 [==============================] - 12s 811us/step - loss: 0.9754 - pi_loss: 0.9260 - v_loss: 0.0494 - val_loss: 0.9720 - val_pi_loss: 0.9241 - val_v_loss: 0.0479\n",
      "Epoch 55/200\n",
      "14400/14400 [==============================] - 12s 846us/step - loss: 0.9687 - pi_loss: 0.9198 - v_loss: 0.0489 - val_loss: 0.9579 - val_pi_loss: 0.9042 - val_v_loss: 0.0536\n",
      "Epoch 56/200\n",
      "14400/14400 [==============================] - 17s 1ms/step - loss: 0.9682 - pi_loss: 0.9192 - v_loss: 0.0490 - val_loss: 0.9530 - val_pi_loss: 0.9055 - val_v_loss: 0.0476\n",
      "Epoch 57/200\n",
      "14400/14400 [==============================] - 19s 1ms/step - loss: 0.9619 - pi_loss: 0.9133 - v_loss: 0.0486 - val_loss: 0.9591 - val_pi_loss: 0.9117 - val_v_loss: 0.0473\n",
      "Epoch 58/200\n",
      "14400/14400 [==============================] - 22s 2ms/step - loss: 0.9554 - pi_loss: 0.9066 - v_loss: 0.0488 - val_loss: 0.9624 - val_pi_loss: 0.9135 - val_v_loss: 0.0489\n",
      "Epoch 59/200\n",
      "14400/14400 [==============================] - 22s 2ms/step - loss: 0.9551 - pi_loss: 0.9063 - v_loss: 0.0488 - val_loss: 0.9454 - val_pi_loss: 0.8964 - val_v_loss: 0.0490\n",
      "Epoch 60/200\n",
      "14400/14400 [==============================] - 21s 1ms/step - loss: 0.9429 - pi_loss: 0.8946 - v_loss: 0.0484 - val_loss: 0.9497 - val_pi_loss: 0.9008 - val_v_loss: 0.0489\n",
      "Epoch 61/200\n",
      "14400/14400 [==============================] - 24s 2ms/step - loss: 0.9429 - pi_loss: 0.8943 - v_loss: 0.0486 - val_loss: 0.9321 - val_pi_loss: 0.8843 - val_v_loss: 0.0477\n",
      "Epoch 62/200\n",
      "14400/14400 [==============================] - 30s 2ms/step - loss: 0.9329 - pi_loss: 0.8843 - v_loss: 0.0486 - val_loss: 0.9272 - val_pi_loss: 0.8775 - val_v_loss: 0.0497\n",
      "Epoch 63/200\n",
      "14400/14400 [==============================] - 28s 2ms/step - loss: 0.9414 - pi_loss: 0.8925 - v_loss: 0.0490 - val_loss: 0.9450 - val_pi_loss: 0.8954 - val_v_loss: 0.0496\n",
      "Epoch 64/200\n",
      "14400/14400 [==============================] - 26s 2ms/step - loss: 0.9340 - pi_loss: 0.8857 - v_loss: 0.0483 - val_loss: 0.9311 - val_pi_loss: 0.8831 - val_v_loss: 0.0481\n",
      "Epoch 65/200\n",
      "14400/14400 [==============================] - 27s 2ms/step - loss: 0.9304 - pi_loss: 0.8820 - v_loss: 0.0484 - val_loss: 0.9279 - val_pi_loss: 0.8805 - val_v_loss: 0.0474\n",
      "Epoch 66/200\n",
      "14400/14400 [==============================] - 27s 2ms/step - loss: 0.9266 - pi_loss: 0.8783 - v_loss: 0.0483 - val_loss: 0.9240 - val_pi_loss: 0.8769 - val_v_loss: 0.0471\n",
      "Epoch 67/200\n",
      "14400/14400 [==============================] - 24s 2ms/step - loss: 0.9220 - pi_loss: 0.8736 - v_loss: 0.0485 - val_loss: 0.9302 - val_pi_loss: 0.8823 - val_v_loss: 0.0479\n",
      "Epoch 68/200\n",
      "14400/14400 [==============================] - 27s 2ms/step - loss: 0.9219 - pi_loss: 0.8732 - v_loss: 0.0487 - val_loss: 0.9313 - val_pi_loss: 0.8836 - val_v_loss: 0.0478\n",
      "Epoch 69/200\n",
      "14400/14400 [==============================] - 28s 2ms/step - loss: 0.9141 - pi_loss: 0.8664 - v_loss: 0.0477 - val_loss: 0.9058 - val_pi_loss: 0.8570 - val_v_loss: 0.0488\n",
      "Epoch 70/200\n",
      "14400/14400 [==============================] - 30s 2ms/step - loss: 0.9111 - pi_loss: 0.8624 - v_loss: 0.0487 - val_loss: 0.9123 - val_pi_loss: 0.8641 - val_v_loss: 0.0483\n",
      "Epoch 71/200\n",
      "14400/14400 [==============================] - 27s 2ms/step - loss: 0.9033 - pi_loss: 0.8546 - v_loss: 0.0487 - val_loss: 0.9239 - val_pi_loss: 0.8762 - val_v_loss: 0.0477\n",
      "Epoch 72/200\n",
      "14400/14400 [==============================] - 29s 2ms/step - loss: 0.9054 - pi_loss: 0.8572 - v_loss: 0.0481 - val_loss: 0.9056 - val_pi_loss: 0.8581 - val_v_loss: 0.0475\n",
      "Epoch 73/200\n",
      "14400/14400 [==============================] - 28s 2ms/step - loss: 0.9005 - pi_loss: 0.8518 - v_loss: 0.0487 - val_loss: 0.9064 - val_pi_loss: 0.8588 - val_v_loss: 0.0476\n",
      "Epoch 74/200\n",
      "14400/14400 [==============================] - 23s 2ms/step - loss: 0.8995 - pi_loss: 0.8517 - v_loss: 0.0479 - val_loss: 0.9065 - val_pi_loss: 0.8578 - val_v_loss: 0.0487\n",
      "Epoch 75/200\n",
      "14400/14400 [==============================] - 28s 2ms/step - loss: 0.8947 - pi_loss: 0.8470 - v_loss: 0.0477 - val_loss: 0.9047 - val_pi_loss: 0.8545 - val_v_loss: 0.0502\n",
      "Epoch 76/200\n",
      "14400/14400 [==============================] - 29s 2ms/step - loss: 0.8864 - pi_loss: 0.8382 - v_loss: 0.0482 - val_loss: 0.8992 - val_pi_loss: 0.8520 - val_v_loss: 0.0472\n",
      "Epoch 77/200\n",
      "14400/14400 [==============================] - 28s 2ms/step - loss: 0.8828 - pi_loss: 0.8346 - v_loss: 0.0481 - val_loss: 0.9099 - val_pi_loss: 0.8621 - val_v_loss: 0.0478\n",
      "Epoch 78/200\n",
      "14400/14400 [==============================] - 30s 2ms/step - loss: 0.8762 - pi_loss: 0.8277 - v_loss: 0.0485 - val_loss: 0.8924 - val_pi_loss: 0.8446 - val_v_loss: 0.0478\n",
      "Epoch 79/200\n",
      "14400/14400 [==============================] - 30s 2ms/step - loss: 0.8786 - pi_loss: 0.8304 - v_loss: 0.0482 - val_loss: 0.8926 - val_pi_loss: 0.8453 - val_v_loss: 0.0473\n",
      "Epoch 80/200\n",
      "14400/14400 [==============================] - 33s 2ms/step - loss: 0.8738 - pi_loss: 0.8262 - v_loss: 0.0475 - val_loss: 0.8983 - val_pi_loss: 0.8499 - val_v_loss: 0.0484\n",
      "Epoch 81/200\n",
      "14400/14400 [==============================] - 31s 2ms/step - loss: 0.8688 - pi_loss: 0.8209 - v_loss: 0.0479 - val_loss: 0.8819 - val_pi_loss: 0.8350 - val_v_loss: 0.0468\n",
      "Epoch 82/200\n",
      "14400/14400 [==============================] - 29s 2ms/step - loss: 0.8704 - pi_loss: 0.8230 - v_loss: 0.0474 - val_loss: 0.8873 - val_pi_loss: 0.8405 - val_v_loss: 0.0468\n",
      "Epoch 83/200\n",
      "14400/14400 [==============================] - 29s 2ms/step - loss: 0.8656 - pi_loss: 0.8181 - v_loss: 0.0475 - val_loss: 0.8882 - val_pi_loss: 0.8411 - val_v_loss: 0.0471\n",
      "Epoch 84/200\n",
      "14400/14400 [==============================] - 22s 2ms/step - loss: 0.8680 - pi_loss: 0.8201 - v_loss: 0.0479 - val_loss: 0.8753 - val_pi_loss: 0.8281 - val_v_loss: 0.0473\n",
      "Epoch 85/200\n",
      "14400/14400 [==============================] - 24s 2ms/step - loss: 0.8500 - pi_loss: 0.8016 - v_loss: 0.0483 - val_loss: 0.8715 - val_pi_loss: 0.8238 - val_v_loss: 0.0477\n",
      "Epoch 86/200\n",
      "14400/14400 [==============================] - 27s 2ms/step - loss: 0.8526 - pi_loss: 0.8048 - v_loss: 0.0478 - val_loss: 0.8899 - val_pi_loss: 0.8425 - val_v_loss: 0.0474\n",
      "Epoch 87/200\n",
      "14400/14400 [==============================] - 28s 2ms/step - loss: 0.8605 - pi_loss: 0.8128 - v_loss: 0.0477 - val_loss: 0.8722 - val_pi_loss: 0.8250 - val_v_loss: 0.0473\n",
      "Epoch 88/200\n",
      "14400/14400 [==============================] - 26s 2ms/step - loss: 0.8447 - pi_loss: 0.7968 - v_loss: 0.0479 - val_loss: 0.8718 - val_pi_loss: 0.8247 - val_v_loss: 0.0471\n",
      "Epoch 89/200\n"
     ]
    },
    {
     "name": "stdout",
     "output_type": "stream",
     "text": [
      "14400/14400 [==============================] - 22s 2ms/step - loss: 0.8452 - pi_loss: 0.7975 - v_loss: 0.0476 - val_loss: 0.8757 - val_pi_loss: 0.8285 - val_v_loss: 0.0472\n",
      "Epoch 90/200\n",
      "14400/14400 [==============================] - 25s 2ms/step - loss: 0.8412 - pi_loss: 0.7935 - v_loss: 0.0477 - val_loss: 0.8656 - val_pi_loss: 0.8175 - val_v_loss: 0.0481\n",
      "Epoch 91/200\n",
      "14400/14400 [==============================] - 29s 2ms/step - loss: 0.8479 - pi_loss: 0.8001 - v_loss: 0.0477 - val_loss: 0.8618 - val_pi_loss: 0.8151 - val_v_loss: 0.0467\n",
      "Epoch 92/200\n",
      "14400/14400 [==============================] - 28s 2ms/step - loss: 0.8389 - pi_loss: 0.7914 - v_loss: 0.0475 - val_loss: 0.8652 - val_pi_loss: 0.8169 - val_v_loss: 0.0483\n",
      "Epoch 93/200\n",
      "14400/14400 [==============================] - 26s 2ms/step - loss: 0.8354 - pi_loss: 0.7873 - v_loss: 0.0480 - val_loss: 0.8664 - val_pi_loss: 0.8155 - val_v_loss: 0.0508\n",
      "Epoch 94/200\n",
      "14400/14400 [==============================] - 21s 1ms/step - loss: 0.8335 - pi_loss: 0.7859 - v_loss: 0.0476 - val_loss: 0.8583 - val_pi_loss: 0.8071 - val_v_loss: 0.0512\n",
      "Epoch 95/200\n",
      "14400/14400 [==============================] - 22s 2ms/step - loss: 0.8314 - pi_loss: 0.7838 - v_loss: 0.0475 - val_loss: 0.8592 - val_pi_loss: 0.8124 - val_v_loss: 0.0468\n",
      "Epoch 96/200\n",
      "14400/14400 [==============================] - 18s 1ms/step - loss: 0.8282 - pi_loss: 0.7804 - v_loss: 0.0478 - val_loss: 0.8641 - val_pi_loss: 0.8178 - val_v_loss: 0.0463\n",
      "Epoch 97/200\n",
      "14400/14400 [==============================] - 16s 1ms/step - loss: 0.8211 - pi_loss: 0.7737 - v_loss: 0.0473 - val_loss: 0.8508 - val_pi_loss: 0.8021 - val_v_loss: 0.0487\n",
      "Epoch 98/200\n",
      "14400/14400 [==============================] - 16s 1ms/step - loss: 0.8184 - pi_loss: 0.7712 - v_loss: 0.0473 - val_loss: 0.8404 - val_pi_loss: 0.7939 - val_v_loss: 0.0465\n",
      "Epoch 99/200\n",
      "14400/14400 [==============================] - 16s 1ms/step - loss: 0.8198 - pi_loss: 0.7724 - v_loss: 0.0474 - val_loss: 0.8539 - val_pi_loss: 0.8070 - val_v_loss: 0.0469\n",
      "Epoch 100/200\n",
      "14400/14400 [==============================] - 16s 1ms/step - loss: 0.8229 - pi_loss: 0.7755 - v_loss: 0.0474 - val_loss: 0.8602 - val_pi_loss: 0.8120 - val_v_loss: 0.0482\n",
      "Epoch 101/200\n",
      "14400/14400 [==============================] - 16s 1ms/step - loss: 0.8127 - pi_loss: 0.7649 - v_loss: 0.0477 - val_loss: 0.8407 - val_pi_loss: 0.7936 - val_v_loss: 0.0471\n",
      "Epoch 102/200\n",
      "14400/14400 [==============================] - 17s 1ms/step - loss: 0.8032 - pi_loss: 0.7562 - v_loss: 0.0470 - val_loss: 0.8386 - val_pi_loss: 0.7919 - val_v_loss: 0.0466\n",
      "Epoch 103/200\n",
      "14400/14400 [==============================] - 16s 1ms/step - loss: 0.8010 - pi_loss: 0.7535 - v_loss: 0.0475 - val_loss: 0.8552 - val_pi_loss: 0.8085 - val_v_loss: 0.0466\n",
      "Epoch 104/200\n",
      "14400/14400 [==============================] - 16s 1ms/step - loss: 0.8064 - pi_loss: 0.7591 - v_loss: 0.0474 - val_loss: 0.8378 - val_pi_loss: 0.7904 - val_v_loss: 0.0474\n",
      "Epoch 105/200\n",
      "14400/14400 [==============================] - 17s 1ms/step - loss: 0.8026 - pi_loss: 0.7551 - v_loss: 0.0475 - val_loss: 0.8337 - val_pi_loss: 0.7869 - val_v_loss: 0.0467\n",
      "Epoch 106/200\n",
      "14400/14400 [==============================] - 16s 1ms/step - loss: 0.8063 - pi_loss: 0.7593 - v_loss: 0.0470 - val_loss: 0.8475 - val_pi_loss: 0.7993 - val_v_loss: 0.0482\n",
      "Epoch 107/200\n",
      "14400/14400 [==============================] - 17s 1ms/step - loss: 0.7996 - pi_loss: 0.7530 - v_loss: 0.0466 - val_loss: 0.8412 - val_pi_loss: 0.7940 - val_v_loss: 0.0472\n",
      "Epoch 108/200\n",
      "14400/14400 [==============================] - 17s 1ms/step - loss: 0.7916 - pi_loss: 0.7447 - v_loss: 0.0469 - val_loss: 0.8478 - val_pi_loss: 0.7985 - val_v_loss: 0.0493\n",
      "Epoch 109/200\n",
      "14400/14400 [==============================] - 17s 1ms/step - loss: 0.7906 - pi_loss: 0.7432 - v_loss: 0.0474 - val_loss: 0.8372 - val_pi_loss: 0.7894 - val_v_loss: 0.0478\n",
      "Epoch 110/200\n",
      "14400/14400 [==============================] - 16s 1ms/step - loss: 0.7953 - pi_loss: 0.7481 - v_loss: 0.0472 - val_loss: 0.8310 - val_pi_loss: 0.7849 - val_v_loss: 0.0460\n",
      "Epoch 111/200\n",
      "14400/14400 [==============================] - 16s 1ms/step - loss: 0.7956 - pi_loss: 0.7490 - v_loss: 0.0466 - val_loss: 0.8382 - val_pi_loss: 0.7911 - val_v_loss: 0.0471\n",
      "Epoch 112/200\n",
      "14400/14400 [==============================] - 16s 1ms/step - loss: 0.7830 - pi_loss: 0.7361 - v_loss: 0.0469 - val_loss: 0.8353 - val_pi_loss: 0.7887 - val_v_loss: 0.0466\n",
      "Epoch 113/200\n",
      "14400/14400 [==============================] - 16s 1ms/step - loss: 0.7811 - pi_loss: 0.7345 - v_loss: 0.0466 - val_loss: 0.8258 - val_pi_loss: 0.7788 - val_v_loss: 0.0470\n",
      "Epoch 114/200\n",
      "14400/14400 [==============================] - 17s 1ms/step - loss: 0.7789 - pi_loss: 0.7320 - v_loss: 0.0469 - val_loss: 0.8271 - val_pi_loss: 0.7808 - val_v_loss: 0.0463\n",
      "Epoch 115/200\n",
      "14400/14400 [==============================] - 17s 1ms/step - loss: 0.7855 - pi_loss: 0.7388 - v_loss: 0.0468 - val_loss: 0.8358 - val_pi_loss: 0.7870 - val_v_loss: 0.0488\n",
      "Epoch 116/200\n",
      "14400/14400 [==============================] - 16s 1ms/step - loss: 0.7643 - pi_loss: 0.7178 - v_loss: 0.0464 - val_loss: 0.8355 - val_pi_loss: 0.7883 - val_v_loss: 0.0472\n",
      "Epoch 117/200\n",
      "14400/14400 [==============================] - 17s 1ms/step - loss: 0.7702 - pi_loss: 0.7238 - v_loss: 0.0465 - val_loss: 0.8341 - val_pi_loss: 0.7863 - val_v_loss: 0.0479\n",
      "Epoch 118/200\n",
      "14400/14400 [==============================] - 16s 1ms/step - loss: 0.7668 - pi_loss: 0.7202 - v_loss: 0.0466 - val_loss: 0.8325 - val_pi_loss: 0.7859 - val_v_loss: 0.0466\n",
      "Epoch 119/200\n",
      "14400/14400 [==============================] - 16s 1ms/step - loss: 0.7713 - pi_loss: 0.7248 - v_loss: 0.0465 - val_loss: 0.8266 - val_pi_loss: 0.7798 - val_v_loss: 0.0468\n",
      "Epoch 120/200\n",
      "14400/14400 [==============================] - 16s 1ms/step - loss: 0.7680 - pi_loss: 0.7211 - v_loss: 0.0469 - val_loss: 0.8359 - val_pi_loss: 0.7891 - val_v_loss: 0.0468\n",
      "Epoch 121/200\n",
      "14400/14400 [==============================] - 17s 1ms/step - loss: 0.7710 - pi_loss: 0.7246 - v_loss: 0.0465 - val_loss: 0.8178 - val_pi_loss: 0.7707 - val_v_loss: 0.0472\n",
      "Epoch 122/200\n",
      "14400/14400 [==============================] - 16s 1ms/step - loss: 0.7648 - pi_loss: 0.7185 - v_loss: 0.0463 - val_loss: 0.8235 - val_pi_loss: 0.7741 - val_v_loss: 0.0494\n",
      "Epoch 123/200\n",
      "14400/14400 [==============================] - 17s 1ms/step - loss: 0.7559 - pi_loss: 0.7094 - v_loss: 0.0466 - val_loss: 0.8270 - val_pi_loss: 0.7782 - val_v_loss: 0.0488\n",
      "Epoch 124/200\n",
      "14400/14400 [==============================] - 16s 1ms/step - loss: 0.7618 - pi_loss: 0.7150 - v_loss: 0.0468 - val_loss: 0.8211 - val_pi_loss: 0.7755 - val_v_loss: 0.0457\n",
      "Epoch 125/200\n",
      "14400/14400 [==============================] - 17s 1ms/step - loss: 0.7565 - pi_loss: 0.7100 - v_loss: 0.0465 - val_loss: 0.8183 - val_pi_loss: 0.7711 - val_v_loss: 0.0472\n",
      "Epoch 126/200\n",
      "14400/14400 [==============================] - 16s 1ms/step - loss: 0.7495 - pi_loss: 0.7031 - v_loss: 0.0464 - val_loss: 0.8143 - val_pi_loss: 0.7662 - val_v_loss: 0.0480\n",
      "Epoch 127/200\n",
      "14400/14400 [==============================] - 17s 1ms/step - loss: 0.7543 - pi_loss: 0.7075 - v_loss: 0.0468 - val_loss: 0.8275 - val_pi_loss: 0.7812 - val_v_loss: 0.0463\n",
      "Epoch 128/200\n",
      "14400/14400 [==============================] - 17s 1ms/step - loss: 0.7483 - pi_loss: 0.7019 - v_loss: 0.0465 - val_loss: 0.8355 - val_pi_loss: 0.7883 - val_v_loss: 0.0472\n",
      "Epoch 129/200\n",
      "14400/14400 [==============================] - 17s 1ms/step - loss: 0.7552 - pi_loss: 0.7085 - v_loss: 0.0468 - val_loss: 0.8214 - val_pi_loss: 0.7737 - val_v_loss: 0.0477\n",
      "Epoch 130/200\n",
      "14400/14400 [==============================] - 17s 1ms/step - loss: 0.7403 - pi_loss: 0.6939 - v_loss: 0.0464 - val_loss: 0.8199 - val_pi_loss: 0.7729 - val_v_loss: 0.0470\n",
      "Epoch 131/200\n",
      "14400/14400 [==============================] - 17s 1ms/step - loss: 0.7510 - pi_loss: 0.7043 - v_loss: 0.0467 - val_loss: 0.8222 - val_pi_loss: 0.7742 - val_v_loss: 0.0480\n",
      "Epoch 132/200\n",
      "14400/14400 [==============================] - 17s 1ms/step - loss: 0.7469 - pi_loss: 0.7002 - v_loss: 0.0467 - val_loss: 0.8221 - val_pi_loss: 0.7751 - val_v_loss: 0.0470\n",
      "Epoch 133/200\n"
     ]
    },
    {
     "name": "stdout",
     "output_type": "stream",
     "text": [
      "14400/14400 [==============================] - 16s 1ms/step - loss: 0.7436 - pi_loss: 0.6971 - v_loss: 0.0465 - val_loss: 0.8203 - val_pi_loss: 0.7720 - val_v_loss: 0.0483\n",
      "Epoch 134/200\n",
      "14400/14400 [==============================] - 15s 1ms/step - loss: 0.7505 - pi_loss: 0.7044 - v_loss: 0.0461 - val_loss: 0.8183 - val_pi_loss: 0.7724 - val_v_loss: 0.0458\n",
      "Epoch 135/200\n",
      "14400/14400 [==============================] - 16s 1ms/step - loss: 0.7432 - pi_loss: 0.6967 - v_loss: 0.0465 - val_loss: 0.8226 - val_pi_loss: 0.7761 - val_v_loss: 0.0465\n",
      "Epoch 136/200\n",
      "14400/14400 [==============================] - 15s 1ms/step - loss: 0.7314 - pi_loss: 0.6848 - v_loss: 0.0466 - val_loss: 0.8112 - val_pi_loss: 0.7654 - val_v_loss: 0.0459\n",
      "Epoch 137/200\n",
      "14400/14400 [==============================] - 15s 1ms/step - loss: 0.7417 - pi_loss: 0.6953 - v_loss: 0.0464 - val_loss: 0.8179 - val_pi_loss: 0.7714 - val_v_loss: 0.0465\n",
      "Epoch 138/200\n",
      "14400/14400 [==============================] - 16s 1ms/step - loss: 0.7192 - pi_loss: 0.6731 - v_loss: 0.0461 - val_loss: 0.8113 - val_pi_loss: 0.7648 - val_v_loss: 0.0465\n",
      "Epoch 139/200\n",
      "14400/14400 [==============================] - 16s 1ms/step - loss: 0.7373 - pi_loss: 0.6908 - v_loss: 0.0465 - val_loss: 0.8229 - val_pi_loss: 0.7751 - val_v_loss: 0.0479\n",
      "Epoch 140/200\n",
      "14400/14400 [==============================] - 16s 1ms/step - loss: 0.7268 - pi_loss: 0.6805 - v_loss: 0.0463 - val_loss: 0.8306 - val_pi_loss: 0.7843 - val_v_loss: 0.0463\n",
      "Epoch 141/200\n",
      "14400/14400 [==============================] - 16s 1ms/step - loss: 0.7241 - pi_loss: 0.6776 - v_loss: 0.0465 - val_loss: 0.8134 - val_pi_loss: 0.7642 - val_v_loss: 0.0492\n",
      "Epoch 142/200\n",
      "14400/14400 [==============================] - 15s 1ms/step - loss: 0.7256 - pi_loss: 0.6786 - v_loss: 0.0470 - val_loss: 0.8218 - val_pi_loss: 0.7742 - val_v_loss: 0.0476\n",
      "Epoch 143/200\n",
      "14400/14400 [==============================] - 15s 1ms/step - loss: 0.7158 - pi_loss: 0.6694 - v_loss: 0.0464 - val_loss: 0.8132 - val_pi_loss: 0.7676 - val_v_loss: 0.0456\n",
      "Epoch 144/200\n",
      "14400/14400 [==============================] - 14s 999us/step - loss: 0.7130 - pi_loss: 0.6665 - v_loss: 0.0465 - val_loss: 0.8223 - val_pi_loss: 0.7760 - val_v_loss: 0.0463\n",
      "Epoch 145/200\n",
      "14400/14400 [==============================] - 14s 1ms/step - loss: 0.7258 - pi_loss: 0.6793 - v_loss: 0.0466 - val_loss: 0.8169 - val_pi_loss: 0.7657 - val_v_loss: 0.0512\n",
      "Epoch 146/200\n",
      "14400/14400 [==============================] - 15s 1ms/step - loss: 0.7216 - pi_loss: 0.6751 - v_loss: 0.0465 - val_loss: 0.8160 - val_pi_loss: 0.7683 - val_v_loss: 0.0477\n",
      "Epoch 147/200\n",
      "14400/14400 [==============================] - 15s 1ms/step - loss: 0.7107 - pi_loss: 0.6647 - v_loss: 0.0460 - val_loss: 0.8153 - val_pi_loss: 0.7684 - val_v_loss: 0.0469\n",
      "Epoch 148/200\n",
      "14400/14400 [==============================] - 15s 1ms/step - loss: 0.7174 - pi_loss: 0.6714 - v_loss: 0.0460 - val_loss: 0.8081 - val_pi_loss: 0.7613 - val_v_loss: 0.0467\n",
      "Epoch 149/200\n",
      "14400/14400 [==============================] - 15s 1ms/step - loss: 0.7148 - pi_loss: 0.6685 - v_loss: 0.0463 - val_loss: 0.8190 - val_pi_loss: 0.7723 - val_v_loss: 0.0467\n",
      "Epoch 150/200\n",
      "14400/14400 [==============================] - 15s 1ms/step - loss: 0.7160 - pi_loss: 0.6697 - v_loss: 0.0463 - val_loss: 0.8107 - val_pi_loss: 0.7638 - val_v_loss: 0.0469\n",
      "Epoch 151/200\n",
      "14400/14400 [==============================] - 15s 1ms/step - loss: 0.7066 - pi_loss: 0.6604 - v_loss: 0.0462 - val_loss: 0.8152 - val_pi_loss: 0.7676 - val_v_loss: 0.0476\n",
      "Epoch 152/200\n",
      "14400/14400 [==============================] - 15s 1ms/step - loss: 0.7015 - pi_loss: 0.6554 - v_loss: 0.0461 - val_loss: 0.8114 - val_pi_loss: 0.7655 - val_v_loss: 0.0459\n",
      "Epoch 153/200\n",
      "14400/14400 [==============================] - 15s 1ms/step - loss: 0.7049 - pi_loss: 0.6587 - v_loss: 0.0462 - val_loss: 0.8127 - val_pi_loss: 0.7663 - val_v_loss: 0.0464\n",
      "Epoch 154/200\n",
      "14400/14400 [==============================] - 15s 1ms/step - loss: 0.7063 - pi_loss: 0.6609 - v_loss: 0.0453 - val_loss: 0.7964 - val_pi_loss: 0.7502 - val_v_loss: 0.0462\n",
      "Epoch 155/200\n",
      "14400/14400 [==============================] - 15s 1ms/step - loss: 0.7014 - pi_loss: 0.6554 - v_loss: 0.0460 - val_loss: 0.8082 - val_pi_loss: 0.7605 - val_v_loss: 0.0477\n",
      "Epoch 156/200\n",
      "14400/14400 [==============================] - 16s 1ms/step - loss: 0.6964 - pi_loss: 0.6499 - v_loss: 0.0465 - val_loss: 0.8114 - val_pi_loss: 0.7648 - val_v_loss: 0.0465\n",
      "Epoch 157/200\n",
      "14400/14400 [==============================] - 16s 1ms/step - loss: 0.6981 - pi_loss: 0.6521 - v_loss: 0.0460 - val_loss: 0.8048 - val_pi_loss: 0.7587 - val_v_loss: 0.0460\n",
      "Epoch 158/200\n",
      "14400/14400 [==============================] - 15s 1ms/step - loss: 0.7123 - pi_loss: 0.6657 - v_loss: 0.0465 - val_loss: 0.8136 - val_pi_loss: 0.7675 - val_v_loss: 0.0461\n",
      "Epoch 159/200\n",
      "14400/14400 [==============================] - 16s 1ms/step - loss: 0.6959 - pi_loss: 0.6501 - v_loss: 0.0457 - val_loss: 0.8094 - val_pi_loss: 0.7634 - val_v_loss: 0.0459\n",
      "Epoch 160/200\n",
      "14400/14400 [==============================] - 16s 1ms/step - loss: 0.6976 - pi_loss: 0.6514 - v_loss: 0.0462 - val_loss: 0.8157 - val_pi_loss: 0.7697 - val_v_loss: 0.0460\n",
      "Epoch 161/200\n",
      "14400/14400 [==============================] - 16s 1ms/step - loss: 0.6955 - pi_loss: 0.6497 - v_loss: 0.0458 - val_loss: 0.7998 - val_pi_loss: 0.7539 - val_v_loss: 0.0459\n",
      "Epoch 162/200\n",
      "14400/14400 [==============================] - 16s 1ms/step - loss: 0.6867 - pi_loss: 0.6405 - v_loss: 0.0462 - val_loss: 0.8213 - val_pi_loss: 0.7716 - val_v_loss: 0.0498\n",
      "Epoch 163/200\n",
      "14400/14400 [==============================] - 15s 1ms/step - loss: 0.6913 - pi_loss: 0.6454 - v_loss: 0.0459 - val_loss: 0.8119 - val_pi_loss: 0.7647 - val_v_loss: 0.0472\n",
      "Epoch 164/200\n",
      "14400/14400 [==============================] - 16s 1ms/step - loss: 0.6848 - pi_loss: 0.6387 - v_loss: 0.0460 - val_loss: 0.8039 - val_pi_loss: 0.7549 - val_v_loss: 0.0490\n",
      "Epoch 165/200\n",
      "14400/14400 [==============================] - 15s 1ms/step - loss: 0.6862 - pi_loss: 0.6402 - v_loss: 0.0460 - val_loss: 0.8072 - val_pi_loss: 0.7619 - val_v_loss: 0.0453\n",
      "Epoch 166/200\n",
      "14400/14400 [==============================] - 18s 1ms/step - loss: 0.6829 - pi_loss: 0.6376 - v_loss: 0.0453 - val_loss: 0.7964 - val_pi_loss: 0.7503 - val_v_loss: 0.0461\n",
      "Epoch 167/200\n",
      "14400/14400 [==============================] - 16s 1ms/step - loss: 0.6843 - pi_loss: 0.6386 - v_loss: 0.0457 - val_loss: 0.8102 - val_pi_loss: 0.7640 - val_v_loss: 0.0462\n",
      "Epoch 168/200\n",
      "14400/14400 [==============================] - 16s 1ms/step - loss: 0.6831 - pi_loss: 0.6368 - v_loss: 0.0463 - val_loss: 0.8120 - val_pi_loss: 0.7625 - val_v_loss: 0.0495\n",
      "Epoch 169/200\n",
      "14400/14400 [==============================] - 16s 1ms/step - loss: 0.6777 - pi_loss: 0.6319 - v_loss: 0.0458 - val_loss: 0.8120 - val_pi_loss: 0.7638 - val_v_loss: 0.0482\n",
      "Epoch 170/200\n",
      "14400/14400 [==============================] - 16s 1ms/step - loss: 0.6834 - pi_loss: 0.6376 - v_loss: 0.0458 - val_loss: 0.8148 - val_pi_loss: 0.7677 - val_v_loss: 0.0471\n",
      "Epoch 171/200\n",
      "14400/14400 [==============================] - 15s 1ms/step - loss: 0.6788 - pi_loss: 0.6332 - v_loss: 0.0456 - val_loss: 0.8084 - val_pi_loss: 0.7623 - val_v_loss: 0.0461\n",
      "Epoch 172/200\n",
      "14400/14400 [==============================] - 16s 1ms/step - loss: 0.6764 - pi_loss: 0.6305 - v_loss: 0.0459 - val_loss: 0.8031 - val_pi_loss: 0.7547 - val_v_loss: 0.0484\n",
      "Epoch 173/200\n",
      "14400/14400 [==============================] - 16s 1ms/step - loss: 0.6787 - pi_loss: 0.6325 - v_loss: 0.0462 - val_loss: 0.8137 - val_pi_loss: 0.7677 - val_v_loss: 0.0460\n",
      "Epoch 174/200\n",
      "14400/14400 [==============================] - 16s 1ms/step - loss: 0.6757 - pi_loss: 0.6304 - v_loss: 0.0453 - val_loss: 0.8233 - val_pi_loss: 0.7771 - val_v_loss: 0.0463\n",
      "Epoch 175/200\n",
      "14400/14400 [==============================] - 16s 1ms/step - loss: 0.6560 - pi_loss: 0.6102 - v_loss: 0.0458 - val_loss: 0.8069 - val_pi_loss: 0.7601 - val_v_loss: 0.0468\n",
      "Epoch 176/200\n",
      "14400/14400 [==============================] - 16s 1ms/step - loss: 0.6696 - pi_loss: 0.6235 - v_loss: 0.0461 - val_loss: 0.8008 - val_pi_loss: 0.7527 - val_v_loss: 0.0481\n",
      "Epoch 177/200\n"
     ]
    },
    {
     "name": "stdout",
     "output_type": "stream",
     "text": [
      "14400/14400 [==============================] - 16s 1ms/step - loss: 0.6676 - pi_loss: 0.6221 - v_loss: 0.0454 - val_loss: 0.8034 - val_pi_loss: 0.7552 - val_v_loss: 0.0482\n",
      "Epoch 178/200\n",
      "14400/14400 [==============================] - 17s 1ms/step - loss: 0.6679 - pi_loss: 0.6221 - v_loss: 0.0458 - val_loss: 0.8196 - val_pi_loss: 0.7733 - val_v_loss: 0.0463\n",
      "Epoch 179/200\n",
      "14400/14400 [==============================] - 15s 1ms/step - loss: 0.6670 - pi_loss: 0.6219 - v_loss: 0.0451 - val_loss: 0.8197 - val_pi_loss: 0.7740 - val_v_loss: 0.0458\n",
      "Epoch 180/200\n",
      "14400/14400 [==============================] - 16s 1ms/step - loss: 0.6679 - pi_loss: 0.6219 - v_loss: 0.0460 - val_loss: 0.8101 - val_pi_loss: 0.7639 - val_v_loss: 0.0462\n",
      "Epoch 181/200\n",
      "14400/14400 [==============================] - 15s 1ms/step - loss: 0.6598 - pi_loss: 0.6147 - v_loss: 0.0452 - val_loss: 0.8168 - val_pi_loss: 0.7687 - val_v_loss: 0.0481\n",
      "Epoch 182/200\n",
      "14400/14400 [==============================] - 16s 1ms/step - loss: 0.6631 - pi_loss: 0.6169 - v_loss: 0.0462 - val_loss: 0.8158 - val_pi_loss: 0.7685 - val_v_loss: 0.0472\n",
      "Epoch 183/200\n",
      "14400/14400 [==============================] - 15s 1ms/step - loss: 0.6672 - pi_loss: 0.6219 - v_loss: 0.0453 - val_loss: 0.8214 - val_pi_loss: 0.7734 - val_v_loss: 0.0480\n",
      "Epoch 184/200\n",
      "14400/14400 [==============================] - 16s 1ms/step - loss: 0.6670 - pi_loss: 0.6213 - v_loss: 0.0457 - val_loss: 0.8143 - val_pi_loss: 0.7686 - val_v_loss: 0.0458\n",
      "Epoch 185/200\n",
      "14400/14400 [==============================] - 16s 1ms/step - loss: 0.6674 - pi_loss: 0.6219 - v_loss: 0.0456 - val_loss: 0.8193 - val_pi_loss: 0.7687 - val_v_loss: 0.0506\n",
      "Epoch 186/200\n",
      "14400/14400 [==============================] - 16s 1ms/step - loss: 0.6640 - pi_loss: 0.6191 - v_loss: 0.0449 - val_loss: 0.8016 - val_pi_loss: 0.7557 - val_v_loss: 0.0459\n",
      "Epoch 187/200\n",
      "14400/14400 [==============================] - 16s 1ms/step - loss: 0.6542 - pi_loss: 0.6090 - v_loss: 0.0453 - val_loss: 0.8109 - val_pi_loss: 0.7654 - val_v_loss: 0.0455\n",
      "Epoch 188/200\n",
      "14400/14400 [==============================] - 16s 1ms/step - loss: 0.6614 - pi_loss: 0.6164 - v_loss: 0.0450 - val_loss: 0.8168 - val_pi_loss: 0.7698 - val_v_loss: 0.0470\n",
      "Epoch 189/200\n",
      "14400/14400 [==============================] - 16s 1ms/step - loss: 0.6540 - pi_loss: 0.6083 - v_loss: 0.0457 - val_loss: 0.8287 - val_pi_loss: 0.7821 - val_v_loss: 0.0466\n",
      "Epoch 190/200\n",
      "14400/14400 [==============================] - 16s 1ms/step - loss: 0.6576 - pi_loss: 0.6125 - v_loss: 0.0452 - val_loss: 0.8124 - val_pi_loss: 0.7662 - val_v_loss: 0.0463\n",
      "Epoch 191/200\n",
      "14400/14400 [==============================] - 16s 1ms/step - loss: 0.6484 - pi_loss: 0.6024 - v_loss: 0.0459 - val_loss: 0.8104 - val_pi_loss: 0.7648 - val_v_loss: 0.0455\n",
      "Epoch 192/200\n",
      "14400/14400 [==============================] - 16s 1ms/step - loss: 0.6544 - pi_loss: 0.6089 - v_loss: 0.0456 - val_loss: 0.8277 - val_pi_loss: 0.7733 - val_v_loss: 0.0544\n",
      "Epoch 193/200\n",
      "14400/14400 [==============================] - 15s 1ms/step - loss: 0.6540 - pi_loss: 0.6080 - v_loss: 0.0460 - val_loss: 0.8191 - val_pi_loss: 0.7721 - val_v_loss: 0.0469\n",
      "Epoch 194/200\n",
      "14400/14400 [==============================] - 16s 1ms/step - loss: 0.6444 - pi_loss: 0.5989 - v_loss: 0.0455 - val_loss: 0.8078 - val_pi_loss: 0.7610 - val_v_loss: 0.0468\n",
      "Epoch 195/200\n",
      "14400/14400 [==============================] - 16s 1ms/step - loss: 0.6479 - pi_loss: 0.6029 - v_loss: 0.0451 - val_loss: 0.8192 - val_pi_loss: 0.7729 - val_v_loss: 0.0463\n",
      "Epoch 196/200\n",
      "14400/14400 [==============================] - 16s 1ms/step - loss: 0.6496 - pi_loss: 0.6039 - v_loss: 0.0457 - val_loss: 0.8192 - val_pi_loss: 0.7720 - val_v_loss: 0.0472\n",
      "Epoch 197/200\n",
      "14400/14400 [==============================] - 16s 1ms/step - loss: 0.6423 - pi_loss: 0.5969 - v_loss: 0.0454 - val_loss: 0.8129 - val_pi_loss: 0.7616 - val_v_loss: 0.0513\n",
      "Epoch 198/200\n",
      "14400/14400 [==============================] - 16s 1ms/step - loss: 0.6374 - pi_loss: 0.5919 - v_loss: 0.0455 - val_loss: 0.8243 - val_pi_loss: 0.7778 - val_v_loss: 0.0466\n",
      "Epoch 199/200\n",
      "14400/14400 [==============================] - 16s 1ms/step - loss: 0.6413 - pi_loss: 0.5959 - v_loss: 0.0454 - val_loss: 0.8177 - val_pi_loss: 0.7718 - val_v_loss: 0.0459\n",
      "Epoch 200/200\n",
      "14400/14400 [==============================] - 16s 1ms/step - loss: 0.6425 - pi_loss: 0.5974 - v_loss: 0.0450 - val_loss: 0.8306 - val_pi_loss: 0.7832 - val_v_loss: 0.0474\n",
      "Saved model to disk\n",
      "CPU times: user 4h 24min 31s, sys: 36min 25s, total: 5h 57s\n",
      "Wall time: 58min 59s\n"
     ]
    }
   ],
   "source": [
    "%%time\n",
    "rnn_hist = rnn.train(dataset)\n",
    "rnn.save_model('rnn_'+filename)"
   ]
  },
  {
   "cell_type": "code",
   "execution_count": 17,
   "metadata": {
    "collapsed": true
   },
   "outputs": [
    {
     "name": "stderr",
     "output_type": "stream",
     "text": [
      "/Users/TZilkha/anaconda3/lib/python3.6/site-packages/torch/nn/modules/loss.py:431: UserWarning: Using a target size (torch.Size([7])) that is different to the input size (torch.Size([7, 1])). This will likely lead to incorrect results due to broadcasting. Please ensure they have the same size.\n",
      "  return F.mse_loss(input, target, reduction=self.reduction)\n",
      "/Users/TZilkha/anaconda3/lib/python3.6/site-packages/torch/nn/modules/loss.py:431: UserWarning: Using a target size (torch.Size([])) that is different to the input size (torch.Size([1, 1])). This will likely lead to incorrect results due to broadcasting. Please ensure they have the same size.\n",
      "  return F.mse_loss(input, target, reduction=self.reduction)\n"
     ]
    },
    {
     "name": "stdout",
     "output_type": "stream",
     "text": [
      "Epoch 10/200\n",
      "Epoch 20/200\n",
      "Epoch 30/200\n",
      "Epoch 40/200\n",
      "Epoch 50/200\n",
      "Epoch 60/200\n",
      "Epoch 70/200\n",
      "Epoch 80/200\n",
      "Epoch 90/200\n",
      "Epoch 100/200\n",
      "Epoch 110/200\n",
      "Epoch 120/200\n",
      "Epoch 130/200\n",
      "Epoch 140/200\n",
      "Epoch 150/200\n",
      "Epoch 160/200\n",
      "Epoch 170/200\n",
      "Epoch 180/200\n",
      "Epoch 190/200\n",
      "Epoch 200/200\n",
      "CPU times: user 2h 55min 48s, sys: 1min 38s, total: 2h 57min 26s\n",
      "Wall time: 2h 59min 5s\n"
     ]
    }
   ],
   "source": [
    "%%time\n",
    "gnn_losses = gnn.train(dataset)\n",
    "gnn.save_model('gnn_'+filename)"
   ]
  },
  {
   "cell_type": "code",
   "execution_count": 7,
   "metadata": {
    "scrolled": true
   },
   "outputs": [
    {
     "name": "stdout",
     "output_type": "stream",
     "text": [
      "Training...\n",
      "Train on 14400 samples, validate on 3600 samples\n",
      "Epoch 1/200\n",
      "14400/14400 [==============================] - 154s 11ms/step - loss: 1.8684 - pi_loss: 1.2856 - v_loss: 0.5828 - val_loss: 2.3876 - val_pi_loss: 1.7115 - val_v_loss: 0.6761\n",
      "Epoch 2/200\n",
      "14400/14400 [==============================] - 151s 10ms/step - loss: 1.4223 - pi_loss: 1.1669 - v_loss: 0.2554 - val_loss: 1.6237 - val_pi_loss: 1.4597 - val_v_loss: 0.1640\n",
      "Epoch 3/200\n",
      "14400/14400 [==============================] - 150s 10ms/step - loss: 1.2230 - pi_loss: 1.1177 - v_loss: 0.1053 - val_loss: 1.2156 - val_pi_loss: 1.0996 - val_v_loss: 0.1160\n",
      "Epoch 4/200\n",
      "14400/14400 [==============================] - 150s 10ms/step - loss: 1.1345 - pi_loss: 1.0631 - v_loss: 0.0714 - val_loss: 1.0799 - val_pi_loss: 1.0104 - val_v_loss: 0.0694\n",
      "Epoch 5/200\n",
      "14400/14400 [==============================] - 149s 10ms/step - loss: 1.0600 - pi_loss: 0.9986 - v_loss: 0.0614 - val_loss: 1.0280 - val_pi_loss: 0.9739 - val_v_loss: 0.0541\n",
      "Epoch 6/200\n",
      "14400/14400 [==============================] - 150s 10ms/step - loss: 1.0043 - pi_loss: 0.9472 - v_loss: 0.0571 - val_loss: 0.9961 - val_pi_loss: 0.9487 - val_v_loss: 0.0474\n",
      "Epoch 7/200\n",
      "14400/14400 [==============================] - 152s 11ms/step - loss: 0.9505 - pi_loss: 0.8932 - v_loss: 0.0573 - val_loss: 0.9271 - val_pi_loss: 0.8810 - val_v_loss: 0.0461\n",
      "Epoch 8/200\n",
      "14400/14400 [==============================] - 146s 10ms/step - loss: 0.8941 - pi_loss: 0.8379 - v_loss: 0.0562 - val_loss: 0.8955 - val_pi_loss: 0.8386 - val_v_loss: 0.0570\n",
      "Epoch 9/200\n",
      "14400/14400 [==============================] - 145s 10ms/step - loss: 0.8337 - pi_loss: 0.7797 - v_loss: 0.0539 - val_loss: 0.8410 - val_pi_loss: 0.7968 - val_v_loss: 0.0442\n",
      "Epoch 10/200\n",
      "14400/14400 [==============================] - 151s 10ms/step - loss: 0.7912 - pi_loss: 0.7385 - v_loss: 0.0527 - val_loss: 0.8350 - val_pi_loss: 0.7680 - val_v_loss: 0.0670\n",
      "Epoch 11/200\n",
      "14400/14400 [==============================] - 153s 11ms/step - loss: 0.7354 - pi_loss: 0.6836 - v_loss: 0.0518 - val_loss: 0.8228 - val_pi_loss: 0.7719 - val_v_loss: 0.0509\n",
      "Epoch 12/200\n",
      "14400/14400 [==============================] - 151s 11ms/step - loss: 0.7123 - pi_loss: 0.6624 - v_loss: 0.0499 - val_loss: 0.8034 - val_pi_loss: 0.7578 - val_v_loss: 0.0456\n",
      "Epoch 13/200\n",
      "14400/14400 [==============================] - 149s 10ms/step - loss: 0.6661 - pi_loss: 0.6160 - v_loss: 0.0501 - val_loss: 0.8117 - val_pi_loss: 0.7590 - val_v_loss: 0.0527\n",
      "Epoch 14/200\n",
      "14400/14400 [==============================] - 157s 11ms/step - loss: 0.6359 - pi_loss: 0.5861 - v_loss: 0.0499 - val_loss: 0.7968 - val_pi_loss: 0.7559 - val_v_loss: 0.0408\n",
      "Epoch 15/200\n",
      "14400/14400 [==============================] - 151s 10ms/step - loss: 0.6063 - pi_loss: 0.5565 - v_loss: 0.0498 - val_loss: 0.8180 - val_pi_loss: 0.7683 - val_v_loss: 0.0496\n",
      "Epoch 16/200\n",
      "14400/14400 [==============================] - 153s 11ms/step - loss: 0.5696 - pi_loss: 0.5224 - v_loss: 0.0472 - val_loss: 0.8181 - val_pi_loss: 0.7683 - val_v_loss: 0.0497\n",
      "Epoch 17/200\n",
      "14400/14400 [==============================] - 154s 11ms/step - loss: 0.5409 - pi_loss: 0.4910 - v_loss: 0.0498 - val_loss: 0.7970 - val_pi_loss: 0.7575 - val_v_loss: 0.0395\n",
      "Epoch 18/200\n",
      "14400/14400 [==============================] - 152s 11ms/step - loss: 0.5023 - pi_loss: 0.4551 - v_loss: 0.0472 - val_loss: 0.8195 - val_pi_loss: 0.7676 - val_v_loss: 0.0519\n",
      "Epoch 19/200\n",
      "14400/14400 [==============================] - 155s 11ms/step - loss: 0.4652 - pi_loss: 0.4203 - v_loss: 0.0450 - val_loss: 0.8414 - val_pi_loss: 0.8036 - val_v_loss: 0.0379\n",
      "Epoch 20/200\n",
      "14400/14400 [==============================] - 154s 11ms/step - loss: 0.4474 - pi_loss: 0.4012 - v_loss: 0.0462 - val_loss: 0.8370 - val_pi_loss: 0.7981 - val_v_loss: 0.0389\n",
      "Epoch 21/200\n",
      "14400/14400 [==============================] - 155s 11ms/step - loss: 0.4150 - pi_loss: 0.3687 - v_loss: 0.0462 - val_loss: 0.8763 - val_pi_loss: 0.8206 - val_v_loss: 0.0557\n",
      "Epoch 22/200\n",
      "14400/14400 [==============================] - 153s 11ms/step - loss: 0.3847 - pi_loss: 0.3389 - v_loss: 0.0458 - val_loss: 0.8571 - val_pi_loss: 0.8181 - val_v_loss: 0.0389\n",
      "Epoch 23/200\n",
      "14400/14400 [==============================] - 153s 11ms/step - loss: 0.3652 - pi_loss: 0.3197 - v_loss: 0.0455 - val_loss: 0.8831 - val_pi_loss: 0.8393 - val_v_loss: 0.0437\n",
      "Epoch 24/200\n",
      "14400/14400 [==============================] - 154s 11ms/step - loss: 0.3272 - pi_loss: 0.2823 - v_loss: 0.0449 - val_loss: 0.9073 - val_pi_loss: 0.8694 - val_v_loss: 0.0379\n",
      "Epoch 25/200\n",
      "14400/14400 [==============================] - 152s 11ms/step - loss: 0.3281 - pi_loss: 0.2838 - v_loss: 0.0443 - val_loss: 0.8954 - val_pi_loss: 0.8582 - val_v_loss: 0.0371\n",
      "Epoch 26/200\n",
      "14400/14400 [==============================] - 230s 16ms/step - loss: 0.2893 - pi_loss: 0.2459 - v_loss: 0.0434 - val_loss: 0.9424 - val_pi_loss: 0.9051 - val_v_loss: 0.0374\n",
      "Epoch 27/200\n",
      "14400/14400 [==============================] - 169s 12ms/step - loss: 0.2702 - pi_loss: 0.2278 - v_loss: 0.0424 - val_loss: 0.9704 - val_pi_loss: 0.9267 - val_v_loss: 0.0437\n",
      "Epoch 28/200\n",
      "14400/14400 [==============================] - 158s 11ms/step - loss: 0.2474 - pi_loss: 0.2039 - v_loss: 0.0435 - val_loss: 1.0183 - val_pi_loss: 0.9787 - val_v_loss: 0.0396\n",
      "Epoch 29/200\n",
      "14400/14400 [==============================] - 192s 13ms/step - loss: 0.2410 - pi_loss: 0.1982 - v_loss: 0.0428 - val_loss: 1.0298 - val_pi_loss: 0.9947 - val_v_loss: 0.0351\n",
      "Epoch 30/200\n",
      "14400/14400 [==============================] - 158s 11ms/step - loss: 0.2240 - pi_loss: 0.1813 - v_loss: 0.0427 - val_loss: 1.0955 - val_pi_loss: 1.0587 - val_v_loss: 0.0368\n",
      "Epoch 31/200\n",
      "14400/14400 [==============================] - 197s 14ms/step - loss: 0.2046 - pi_loss: 0.1635 - v_loss: 0.0412 - val_loss: 1.0810 - val_pi_loss: 1.0448 - val_v_loss: 0.0361\n",
      "Epoch 32/200\n",
      "14400/14400 [==============================] - 218s 15ms/step - loss: 0.1983 - pi_loss: 0.1562 - v_loss: 0.0421 - val_loss: 1.0780 - val_pi_loss: 1.0360 - val_v_loss: 0.0419\n",
      "Epoch 33/200\n",
      "14400/14400 [==============================] - 159s 11ms/step - loss: 0.1870 - pi_loss: 0.1464 - v_loss: 0.0405 - val_loss: 1.1036 - val_pi_loss: 1.0597 - val_v_loss: 0.0439\n",
      "Epoch 34/200\n",
      "14400/14400 [==============================] - 149s 10ms/step - loss: 0.1731 - pi_loss: 0.1322 - v_loss: 0.0409 - val_loss: 1.1808 - val_pi_loss: 1.1457 - val_v_loss: 0.0351\n",
      "Epoch 00034: early stopping\n",
      "Saved model to disk\n",
      "CPU times: user 5h 58min 47s, sys: 4min 33s, total: 6h 3min 20s\n",
      "Wall time: 1h 30min 25s\n"
     ]
    }
   ],
   "source": [
    "%%time\n",
    "cnn_hist = cnn.train(dataset)\n",
    "cnn.save_model('cnn_'+filename)"
   ]
  },
  {
   "cell_type": "code",
   "execution_count": 6,
   "metadata": {},
   "outputs": [
    {
     "name": "stdout",
     "output_type": "stream",
     "text": [
      "Loaded model from disk\n",
      "Loaded model from disk\n",
      "Loaded model from disk\n"
     ]
    }
   ],
   "source": [
    "rnn.load_model(\"rnn_\"+filename)\n",
    "gnn.load_model(\"gnn_\"+filename)\n",
    "cnn.load_model('cnn_'+filename)"
   ]
  },
  {
   "cell_type": "code",
   "execution_count": null,
   "metadata": {},
   "outputs": [],
   "source": [
    "def plot_training(history):\n",
    "    # Plot training & validation v loss values\n",
    "    plt.plot(history['v_loss'])\n",
    "    plt.plot(history['val_v_loss'])\n",
    "    plt.title('v Training Loss')\n",
    "    plt.ylabel('Loss')\n",
    "    plt.xlabel('Epoch')\n",
    "    plt.legend(['v', 'val_v'])\n",
    "    plt.show()\n",
    "\n",
    "    # Plot training & validation pi loss values\n",
    "    plt.plot(history['pi_loss'])\n",
    "    plt.plot(history['val_pi_loss'])\n",
    "    plt.title('pi Training Loss')\n",
    "    plt.ylabel('Loss')\n",
    "    plt.xlabel('Epoch')\n",
    "    plt.legend(['pi', 'val_pi'])\n",
    "    plt.show()"
   ]
  },
  {
   "cell_type": "code",
   "execution_count": 18,
   "metadata": {},
   "outputs": [
    {
     "name": "stdout",
     "output_type": "stream",
     "text": [
      "Saved model to disk\n"
     ]
    }
   ],
   "source": [
    "plot_training(rnn_hist.history)"
   ]
  },
  {
   "cell_type": "code",
   "execution_count": null,
   "metadata": {},
   "outputs": [],
   "source": [
    "plot_training(cnn_hist.history)"
   ]
  },
  {
   "cell_type": "code",
   "execution_count": 13,
   "metadata": {
    "scrolled": true
   },
   "outputs": [
    {
     "data": {
      "image/png": "[encoded data removed]",
      "text/plain": [
       "<Figure size 432x288 with 1 Axes>"
      ]
     },
     "metadata": {},
     "output_type": "display_data"
    },
    {
     "data": {
      "image/png": "[encoded data removed]",
      "text/plain": [
       "<Figure size 432x288 with 1 Axes>"
      ]
     },
     "metadata": {},
     "output_type": "display_data"
    }
   ],
   "source": [
    "plot_training(gnn_hist)"
   ]
  },
  {
   "cell_type": "code",
   "execution_count": 7,
   "metadata": {},
   "outputs": [],
   "source": []
  },
  {
   "cell_type": "markdown",
   "metadata": {},
   "source": [
    "### Evaluate"
   ]
  },
  {
   "cell_type": "code",
   "execution_count": 8,
   "metadata": {},
   "outputs": [
    {
     "name": "stdout",
     "output_type": "stream",
     "text": [
      "0...1...2...3...4...5...6...7...8...9...10...11...12...13...14...15...16...17...18...19...20...21...22...23...24...25...26...27...28...29...30...31...32...33...34...35...36...37...38...39...40...41...42...43...44...45...46...47...48...49...50...51...52...53...54...55...56...57...58...59...60...61...62...63...64...65...66...67...68...69...70...71...72...73...74...75...76...77...78...79...80...81...82...83...84...85...86...87...88...89...90...91...92...93...94...95...96...97...98...99...\n",
      "CPU times: user 4min 52s, sys: 22.3 s, total: 5min 14s\n",
      "Wall time: 4min 24s\n"
     ]
    }
   ],
   "source": [
    "%%time\n",
    "\n",
    "args['numMCTSSims']=2000\n",
    "\n",
    "game_list = [TSPGame(args) for i in range(100)]\n",
    "\n",
    "nets = {\"No NN\": None, \n",
    "        \"LSTM\": rnn,\n",
    "        'GNN': gnn,\n",
    "        'CNN': cnn}\n",
    "\n",
    "res = create_comparison(game_list, nets, gnn_args)"
   ]
  },
  {
   "cell_type": "code",
   "execution_count": null,
   "metadata": {},
   "outputs": [],
   "source": [
    "plot_comparison(res)"
   ]
  },
  {
   "cell_type": "code",
   "execution_count": null,
   "metadata": {},
   "outputs": [],
   "source": []
  },
  {
   "cell_type": "code",
   "execution_count": null,
   "metadata": {},
   "outputs": [],
   "source": []
  },
  {
   "cell_type": "code",
   "execution_count": null,
   "metadata": {},
   "outputs": [],
   "source": []
  },
  {
   "cell_type": "code",
   "execution_count": null,
   "metadata": {},
   "outputs": [],
   "source": []
  },
  {
   "cell_type": "code",
   "execution_count": null,
   "metadata": {},
   "outputs": [],
   "source": []
  },
  {
   "cell_type": "code",
   "execution_count": 17,
   "metadata": {},
   "outputs": [
    {
     "data": {
      "image/png": "[encoded data removed]",
      "text/plain": [
       "<Figure size 432x288 with 1 Axes>"
      ]
     },
     "metadata": {},
     "output_type": "display_data"
    }
   ],
   "source": [
    "plot_comparison(res)"
   ]
  },
  {
   "cell_type": "code",
   "execution_count": null,
   "metadata": {},
   "outputs": [],
   "source": []
  },
  {
   "cell_type": "code",
   "execution_count": 9,
   "metadata": {},
   "outputs": [
    {
     "data": {
      "image/png": "[encoded data removed]",
      "text/plain": [
       "<Figure size 432x288 with 1 Axes>"
      ]
     },
     "metadata": {},
     "output_type": "display_data"
    }
   ],
   "source": [
    "plot_comparison(res)"
   ]
  },
  {
   "cell_type": "code",
   "execution_count": null,
   "metadata": {},
   "outputs": [],
   "source": []
  },
  {
   "cell_type": "code",
   "execution_count": null,
   "metadata": {},
   "outputs": [],
   "source": []
  },
  {
   "cell_type": "code",
   "execution_count": null,
   "metadata": {},
   "outputs": [],
   "source": []
  }
 ],
 "metadata": {
  "kernelspec": {
   "display_name": "Python 3",
   "language": "python",
   "name": "python3"
  },
  "language_info": {
   "codemirror_mode": {
    "name": "ipython",
    "version": 3
   },
   "file_extension": ".py",
   "mimetype": "text/x-python",
   "name": "python",
   "nbconvert_exporter": "python",
   "pygments_lexer": "ipython3",
   "version": "3.6.4"
  }
 },
 "nbformat": 4,
 "nbformat_minor": 2
}
