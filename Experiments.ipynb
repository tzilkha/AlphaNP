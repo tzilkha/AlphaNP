{
 "cells": [
  {
   "cell_type": "markdown",
   "metadata": {
    "colab_type": "text",
    "id": "Diz6TXlgXmxB"
   },
   "source": [
    "# Class Exercise - MCTS with TSP\n",
    "- Tal Zilkha - tiz2102\n",
    "- Mat Hillman - mh3691"
   ]
  },
  {
   "cell_type": "markdown",
   "metadata": {},
   "source": [
    "# MCTS"
   ]
  },
  {
   "cell_type": "code",
   "execution_count": 1,
   "metadata": {
    "colab": {},
    "colab_type": "code",
    "id": "fXkT460PXmxK"
   },
   "outputs": [],
   "source": [
    "import math\n",
    "import numpy as np\n",
    "EPS = 1e-8\n",
    "\n",
    "class MCTS():\n",
    "    \"\"\"\n",
    "    This class handles the MCTS tree.\n",
    "    \"\"\"\n",
    "\n",
    "    def __init__(self, game, nnet, args):\n",
    "        self.game = game\n",
    "        self.nnet = nnet\n",
    "        self.args = args\n",
    "        self.Qsa = {}       # stores Q values for s,a (as defined in the paper)\n",
    "        self.Nsa = {}       # stores #times edge s,a was visited\n",
    "        self.Ns = {}        # stores #times board s was visited\n",
    "        self.Ps = {}        # stores initial policy (returned by neural net)\n",
    "\n",
    "        self.Es = {}        # stores game.getGameEnded ended for board s\n",
    "        self.Vs = {}        # stores game.getValidMoves for board s\n",
    "        \n",
    "        self.val = [float('inf')]\n",
    "        self.num_sim = [0]\n",
    "\n",
    "    def getActionProb(self, state, temp=1):\n",
    "        \"\"\"\n",
    "        This function performs numMCTSSims simulations of MCTS starting from\n",
    "        canonicalBoard.\n",
    "        Returns:\n",
    "            probs: a policy vector where the probability of the ith action is\n",
    "                   proportional to Nsa[(s,a)]**(1./temp)\n",
    "        \"\"\"\n",
    "        for i in range(self.args.numMCTSSims):\n",
    "            self.search(state, i)\n",
    "\n",
    "        s = self.game.stringRepresentation(state)\n",
    "        counts = [self.Nsa[(s,a)] if (s,a) in self.Nsa else 0 for a in range(self.game.getActionSize())]\n",
    "        \n",
    "        if temp==0:\n",
    "            bestA = np.argmax(counts)\n",
    "            probs = [0]*len(counts)\n",
    "            probs[bestA]=1\n",
    "            return probs\n",
    "\n",
    "        counts = [x**(1./temp) for x in counts]\n",
    "        counts_sum = float(sum(counts))\n",
    "        probs = [x/counts_sum for x in counts]\n",
    "        return probs\n",
    "\n",
    "\n",
    "    def search(self, state, num_sim):\n",
    "        \"\"\"\n",
    "        This function performs one iteration of MCTS. It is recursively called\n",
    "        till a leaf node is found. The action chosen at each node is one that\n",
    "        has the maximum upper confidence bound as in the paper.\n",
    "        Once a leaf node is found, the neural network is called to return an\n",
    "        initial policy P and a value v for the state. This value is propagated\n",
    "        up the search path. In case the leaf node is a terminal state, the\n",
    "        outcome is propagated up the search path. The values of Ns, Nsa, Qsa are\n",
    "        updated.\n",
    "        NOTE: the return values are the negative of the value of the current\n",
    "        state. This is done since v is in [-1,1] and if v is the value of a\n",
    "        state for the current player, then its value is -v for the other player.\n",
    "        Returns:\n",
    "            v: the negative of the value of the current canonicalBoard\n",
    "        \"\"\"\n",
    "\n",
    "        s = self.game.stringRepresentation(state)\n",
    "        \n",
    "        if s not in self.Es:\n",
    "            self.Es[s] = self.game.getGameEnded(state)\n",
    "        if self.Es[s]!=0:\n",
    "            # terminal node\n",
    "            return 0\n",
    "\n",
    "        if s not in self.Ps:\n",
    "            # leaf node\n",
    "            if self.nnet is not None:\n",
    "                self.Ps[s], v = self.nnet.predict(state, self.game.graph)\n",
    "            else:\n",
    "                self.Ps[s] = np.ones(self.game.getActionSize()) # random policy\n",
    "                v = 0\n",
    "            valids = self.game.getValidMoves(state)\n",
    "            self.Ps[s] = self.Ps[s]*valids      # masking invalid moves\n",
    "            sum_Ps_s = np.sum(self.Ps[s])\n",
    "            if sum_Ps_s > 0:\n",
    "                self.Ps[s] /= sum_Ps_s    # renormalize\n",
    "            else:\n",
    "                # if all valid moves were masked make all valid moves equally probable\n",
    "                \n",
    "                # NB! All valid moves may be masked if either your NNet architecture is insufficient or you've get overfitting or something else.\n",
    "                # If you have got dozens or hundreds of these messages you should pay attention to your NNet and/or training process.   \n",
    "                print(\"All valid moves were masked, do workaround.\")\n",
    "                self.Ps[s] = self.Ps[s] + valids\n",
    "                self.Ps[s] /= np.sum(self.Ps[s])\n",
    "\n",
    "            self.Vs[s] = valids\n",
    "            self.Ns[s] = 0\n",
    "            return v\n",
    "\n",
    "        valids = self.Vs[s]\n",
    "        cur_best = -float('inf')\n",
    "        best_act = -1\n",
    "\n",
    "        # pick the action with the highest upper confidence bound\n",
    "        for a in range(self.game.getActionSize()):\n",
    "            if valids[a]:\n",
    "                if (s,a) in self.Qsa:\n",
    "                    u = self.Qsa[(s,a)] + self.args.cpuct*self.Ps[s][a]*math.sqrt(self.Ns[s])/(1+self.Nsa[(s,a)])\n",
    "                else:\n",
    "                    u = self.args.cpuct*self.Ps[s][a]*math.sqrt(self.Ns[s] + EPS)     # Q = 0 ?\n",
    "\n",
    "                if u > cur_best:\n",
    "                    cur_best = u\n",
    "                    best_act = a\n",
    "\n",
    "        a = best_act\n",
    "        next_s, reward = self.game.getNextState(state, a)\n",
    "\n",
    "        v = self.search(next_s, num_sim) + reward\n",
    "\n",
    "        if (s,a) in self.Qsa:\n",
    "            self.Qsa[(s,a)] = (self.Nsa[(s,a)]*self.Qsa[(s,a)] + v)/(self.Nsa[(s,a)]+1)\n",
    "            self.Nsa[(s,a)] += 1\n",
    "\n",
    "        else:\n",
    "            self.Qsa[(s,a)] = v\n",
    "            self.Nsa[(s,a)] = 1\n",
    "            \n",
    "        if self.game.getActionSize() - self.val[-1] < v:\n",
    "            self.val += [self.game.getActionSize() - v]\n",
    "            self.num_sim += [num_sim]\n",
    "\n",
    "        self.Ns[s] += 1\n",
    "        return v"
   ]
  },
  {
   "cell_type": "markdown",
   "metadata": {
    "colab_type": "text",
    "id": "R2ruv-kiXmyS"
   },
   "source": [
    "# TSPGame"
   ]
  },
  {
   "cell_type": "code",
   "execution_count": 2,
   "metadata": {
    "colab": {},
    "colab_type": "code",
    "id": "tMskmQ-aXmyZ"
   },
   "outputs": [],
   "source": [
    "from itertools import permutations \n",
    "\n",
    "class TSPGame():\n",
    "    \"\"\"\n",
    "    This class specifies the base Game class. To define your own game, subclass\n",
    "    this class and implement the functions below. This works when the game is\n",
    "    two-player, adversarial and turn-based.\n",
    "    Use 1 for player1 and -1 for player2.\n",
    "    See othello/OthelloGame.py for an example implementation.\n",
    "    \"\"\"\n",
    "    def __init__(self, args):\n",
    "        self.num_node = args.num_node\n",
    "        self.graph = np.random.rand(self.num_node, 2)\n",
    "\n",
    "    def getStartState(self):\n",
    "        \"\"\"\n",
    "        Returns:\n",
    "            start_state: a representation of the graph\n",
    "        \"\"\"\n",
    "        start_state = np.zeros([self.num_node, 2])\n",
    "        start_state[0,0] = 1\n",
    "        start_state[0,1] = 1\n",
    "        return start_state\n",
    "\n",
    "    def getActionSize(self):\n",
    "        \"\"\"\n",
    "        Returns:\n",
    "            self.num_node: number of all possible actions\n",
    "        \"\"\"\n",
    "        return self.num_node\n",
    "\n",
    "    def getNextState(self, state, action):\n",
    "        \"\"\"\n",
    "        Input:\n",
    "            state: current state\n",
    "            action: action taken by current player\n",
    "        Returns:\n",
    "            next_state: graph after applying action\n",
    "            reward: reward from action\n",
    "        \"\"\"\n",
    "        next_state = state.copy()\n",
    "        next_state[:, 1] = 0\n",
    "        next_state[action, :] = 1\n",
    "        prev_action = np.where(state[:, 1] == 1)[0][0]\n",
    "        prev_node = self.graph[prev_action]\n",
    "        cur_node = self.graph[action]\n",
    "        reward = 1 - np.linalg.norm(cur_node - prev_node)\n",
    "        if self.num_node == np.sum(next_state[:, 0]):\n",
    "            reward += 1 - np.linalg.norm(cur_node - self.graph[0])\n",
    "            \n",
    "        return next_state, reward\n",
    "\n",
    "    def getValidMoves(self, state):\n",
    "        \"\"\"\n",
    "        Input:\n",
    "            state: current state\n",
    "        Returns:\n",
    "            1 - state[:, 0]: a binary vector of length self.getActionSize(), 1 for\n",
    "                            moves that are valid from the current board and player,\n",
    "                            0 for invalid moves\n",
    "        \"\"\"\n",
    "        return 1 - state[:, 0]\n",
    "\n",
    "    def getGameEnded(self, state):\n",
    "        \"\"\"\n",
    "        Input:\n",
    "            state: current state\n",
    "        Returns:\n",
    "            r: 0 if game has not ended. 1 if it has\n",
    "               \n",
    "        \"\"\"\n",
    "        r = 0\n",
    "        if self.num_node == np.sum(state[:, 0]):\n",
    "            r = 1\n",
    "        return r\n",
    "\n",
    "    def stringRepresentation(self, state):\n",
    "        \"\"\"\n",
    "        Input:\n",
    "            state: current state\n",
    "        Returns:\n",
    "            s: string representation of state\n",
    "        \"\"\"\n",
    "        s = ''\n",
    "        for i in range(self.num_node):\n",
    "            s += str(int(state[i, 0]))\n",
    "        return s\n",
    "    \n",
    "    def optimal_sol(self):\n",
    "        \"\"\"\n",
    "        Input:\n",
    "            \n",
    "        Returns:\n",
    "            optimal_val: optimal solution for TSP\n",
    "            optimal_path: optimal path for TSP\n",
    "        \"\"\"\n",
    "        cur_reward = 0\n",
    "        optimal_val = float('inf')\n",
    "        optimal_path = []\n",
    "        graph = self.graph\n",
    "\n",
    "        nodes = np.arange(self.num_node)[1:]\n",
    "        perms = permutations(nodes)\n",
    "        \n",
    "        for perm in list(perms):\n",
    "            cur_reward = 0\n",
    "            \n",
    "            cur_reward += np.linalg.norm(graph[0] - graph[perm[0]])\n",
    "            for i in range(len(perm) - 1):\n",
    "                j = perm[i]\n",
    "                k = perm[i+1]\n",
    "                cur_reward += np.linalg.norm(graph[k] - graph[j])\n",
    "            cur_reward += np.linalg.norm(graph[perm[-1]] - graph[0])\n",
    "            \n",
    "            if optimal_val > cur_reward:\n",
    "                optimal_val = cur_reward\n",
    "                optimal_path = perm\n",
    "        \n",
    "        return optimal_val, optimal_path"
   ]
  },
  {
   "cell_type": "markdown",
   "metadata": {
    "colab_type": "text",
    "id": "77NUtw5kXm1G"
   },
   "source": [
    "# Configuration"
   ]
  },
  {
   "cell_type": "code",
   "execution_count": 47,
   "metadata": {
    "colab": {},
    "colab_type": "code",
    "id": "7HSZvnyHXm1P"
   },
   "outputs": [],
   "source": [
    "class dotdict(dict):\n",
    "    def __getattr__(self, name):\n",
    "        return self[name]\n",
    "\n",
    "args = dotdict({\n",
    "    # MCTS args\n",
    "    'numMCTSSims': 5000,          # Number of games moves for MCTS to simulate.\n",
    "    'num_node': 8,                 # Number of nodes in the graph (game)\n",
    "    \n",
    "    # Train args\n",
    "    'numIters': 1,              # Number of episods to play (5 times 10 episodes)\n",
    "    'numEps': 1,              # Number of complete self-play games to simulate during a new iteration.\n",
    "    'tempThreshold': 15,        #\n",
    "    'updateThreshold': 0.6,     # During arena playoff, new neural net will be accepted if threshold or more of games are won.\n",
    "    'maxlenOfQueue': 200000,    # Number of game examples to train the neural networks.\n",
    "    'arenaCompare': 40,         # Number of games to play during arena play to determine if new net will be accepted.\n",
    "    'cpuct': 1,\n",
    "    'numItersForTrainExamplesHistory': 25,\n",
    "    \n",
    "    # NN args\n",
    "    'lr': 0.001,\n",
    "    'dropout': 0.3,\n",
    "    'epochs': 100,\n",
    "    'batch_size': 64,\n",
    "    'cuda': False,\n",
    "    'num_channels': 512,\n",
    "    })"
   ]
  },
  {
   "cell_type": "markdown",
   "metadata": {
    "colab_type": "text",
    "id": "cbBUNyajXm11"
   },
   "source": [
    "# Self Play"
   ]
  },
  {
   "cell_type": "code",
   "execution_count": 48,
   "metadata": {
    "colab": {},
    "colab_type": "code",
    "id": "HHGbBLtlXm12"
   },
   "outputs": [],
   "source": [
    "def play_game(args):\n",
    "    game = TSPGame(args)\n",
    "    mcts = MCTS(game, None, args)\n",
    "    state = game.getStartState()\n",
    "    mcts_reward = 0\n",
    "    mcts_actions = []\n",
    "    optimal_val, optimal_path = game.optimal_sol()\n",
    "    \n",
    "    while not game.getGameEnded(state):\n",
    "        action = np.argmax(mcts.getActionProb(state))\n",
    "        state, reward = game.getNextState(state, action)\n",
    "        mcts_actions += [action]\n",
    "        mcts_reward += reward\n",
    "        \n",
    "#     print('Optimal Solution:', optimal_val)\n",
    "#     print('Optimal Action:', optimal_path)\n",
    "#     print('MCTS Reward:', game.getActionSize() - mcts_reward)\n",
    "#     print('MCTS Action:', mcts_actions)\n",
    "    \n",
    "    return mcts.val, mcts.num_sim, optimal_val"
   ]
  },
  {
   "cell_type": "markdown",
   "metadata": {
    "colab_type": "text",
    "id": "r6VCBNzSXm2i"
   },
   "source": [
    "# Plot"
   ]
  },
  {
   "cell_type": "code",
   "execution_count": 7,
   "metadata": {
    "colab": {
     "base_uri": "https://localhost:8080/",
     "height": 142
    },
    "colab_type": "code",
    "id": "1Xps_DamXm2n",
    "outputId": "89057f4e-788f-4276-f40d-2ec93cf15322"
   },
   "outputs": [
    {
     "name": "stdout",
     "output_type": "stream",
     "text": [
      "[0, 1, 2, 2, 3, 4, 5, 5, 6, 7, 7, 8, 8, 9, 222, 226, 435, 522, 743, 1760, 3658, 9482, 9502, 10869, 12878, 14271, 17564, 17940, 18079] [inf, 9.414540200949762, 9.313411159732421, 8.727951360682184, 8.344859632727674, 7.8163158832715744, 7.6744141835700725, 7.088954384519835, 6.559644402218701, 6.472677306028439, 5.887217506978201, 5.627224636139435, 5.041764837089198, 4.628857996335701, 4.57370901726899, 4.570752252459552, 4.182286853044377, 4.124901236426097, 3.872914190611355, 3.60966124824811, 3.6090937782776598, 3.33021732069221, 3.0757943787357416, 3.006403148784175, 2.9026898904538943, 2.7476673451533458, 2.7425828328293074, 2.6388695744990276, 2.483847029198479]\n"
     ]
    }
   ],
   "source": [
    "val, num_sim, optimal_reward = play_game(args)\n",
    "print(num_sim, val)"
   ]
  },
  {
   "cell_type": "code",
   "execution_count": 8,
   "metadata": {
    "colab": {
     "base_uri": "https://localhost:8080/",
     "height": 296
    },
    "colab_type": "code",
    "id": "URpz55pLXm3Z",
    "outputId": "b508f33b-de74-46b4-d7e4-a715645069ac"
   },
   "outputs": [
    {
     "data": {
      "text/plain": [
       "<matplotlib.collections.LineCollection at 0x7f9d7de90490>"
      ]
     },
     "execution_count": 8,
     "metadata": {},
     "output_type": "execute_result"
    },
    {
     "data": {
      "image/png": "[encoded data removed]",
      "text/plain": [
       "<Figure size 432x288 with 1 Axes>"
      ]
     },
     "metadata": {
      "needs_background": "light"
     },
     "output_type": "display_data"
    }
   ],
   "source": [
    "import matplotlib.pyplot as plt\n",
    "\n",
    "plt.plot(np.array(num_sim[1:]), val[1:])\n",
    "plt.hlines(optimal_reward, 0, num_sim[-1])\n",
    "plt.xlabel(\"Number of Simulations\")\n",
    "plt.ylabel(\"Length\")"
   ]
  },
  {
   "cell_type": "markdown",
   "metadata": {
    "colab_type": "text",
    "id": "Ytxi1Wh1Xm3m"
   },
   "source": [
    "# Part 1 (of Exercise)"
   ]
  },
  {
   "cell_type": "code",
   "execution_count": null,
   "metadata": {
    "colab": {
     "base_uri": "https://localhost:8080/",
     "height": 443
    },
    "colab_type": "code",
    "id": "3g4tqiGFXm3o",
    "outputId": "3e83ea8e-9e4b-4b5a-d3b0-7f5fc467070c"
   },
   "outputs": [
    {
     "name": "stdout",
     "output_type": "stream",
     "text": [
      "0\n",
      "10\n",
      "20\n",
      "30\n"
     ]
    }
   ],
   "source": [
    "# code to run MCTS on 100 games\n",
    "results = {}\n",
    "optimal_vals = []\n",
    "for i in range(100):\n",
    "    if i % 10 == 0:\n",
    "        print(i)\n",
    "    val, num_s, optimal_reward = play_game(args)\n",
    "    results[i] = {tuple(num_s): val}\n",
    "    optimal_vals += [optimal_reward]"
   ]
  },
  {
   "cell_type": "code",
   "execution_count": null,
   "metadata": {
    "colab": {},
    "colab_type": "code",
    "id": "yCQGCYzdXm4F"
   },
   "outputs": [],
   "source": [
    "# process results\n",
    "import pandas as pd\n",
    "columns = list(range(100))\n",
    "df = pd.DataFrame(columns=columns)\n",
    "i = 0\n",
    "for result in results:\n",
    "    sims = list(results[result].keys())[0]\n",
    "    vals = list(results[result].values())[0]\n",
    "    col = np.zeros(20000)\n",
    "    j = 0\n",
    "    for sim in sims:\n",
    "    col[sim] = vals[j]\n",
    "    j += 1\n",
    "    df[i] = col\n",
    "    i += 1"
   ]
  },
  {
   "cell_type": "code",
   "execution_count": null,
   "metadata": {
    "colab": {},
    "colab_type": "code",
    "id": "GuRavY1mXm4a"
   },
   "outputs": [],
   "source": [
    "for col in df:\n",
    "    df[col] = df[col].replace(0.0, pd.np.nan)\n",
    "    df[col] = df[col].ffill()"
   ]
  },
  {
   "cell_type": "code",
   "execution_count": null,
   "metadata": {
    "colab": {},
    "colab_type": "code",
    "id": "66M6NLvzXm4n"
   },
   "outputs": [],
   "source": [
    "df.drop(df.head(1).index, inplace=True)"
   ]
  },
  {
   "cell_type": "code",
   "execution_count": null,
   "metadata": {
    "colab": {},
    "colab_type": "code",
    "id": "pYGem49TmnPu"
   },
   "outputs": [],
   "source": [
    "opt_val_row = pd.DataFrame([pd.Series(optimal_vals)], index=[\"opt\"], dtype=float)\n",
    "df = pd.concat([opt_val_row, df])\n",
    "df.to_csv(\"100-games.csv\")"
   ]
  },
  {
   "cell_type": "code",
   "execution_count": null,
   "metadata": {
    "colab": {},
    "colab_type": "code",
    "id": "NRgOlniR2Jjp"
   },
   "outputs": [],
   "source": [
    "opt_vals = df[0:1]\n",
    "opt_vals = opt_vals.iloc[0]\n",
    "df.drop(df.head(1).index, inplace=True)"
   ]
  },
  {
   "cell_type": "code",
   "execution_count": null,
   "metadata": {
    "colab": {},
    "colab_type": "code",
    "id": "W8BhKnBP2L-K"
   },
   "outputs": [],
   "source": [
    "df = df.reset_index(drop=True)"
   ]
  },
  {
   "cell_type": "code",
   "execution_count": null,
   "metadata": {
    "colab": {},
    "colab_type": "code",
    "id": "t1F-ND3Q2ONB"
   },
   "outputs": [],
   "source": [
    "# check how many simulations fall within 1.1 factor of optimal solution\n",
    "within_factor = []\n",
    "for i in range(19999):\n",
    "    row = list(df.iloc[i])\n",
    "    counter = 0\n",
    "    for j in range(len(row)):\n",
    "    if row[j] / opt_vals[j] <= 1.1:\n",
    "        counter += 1\n",
    "    within_factor += [counter / 100]"
   ]
  },
  {
   "cell_type": "code",
   "execution_count": null,
   "metadata": {
    "colab": {},
    "colab_type": "code",
    "id": "Tfzr2gy12PC2"
   },
   "outputs": [],
   "source": [
    "# plot graph\n",
    "import matplotlib.pyplot as plt\n",
    "\n",
    "plt.plot(np.array(range(19999)), within_factor)\n",
    "plt.title(\"Percentage of random instances which MCTS solved within a 1.1 factor of the optimal solution as a function of simulations\")\n",
    "plt.xlabel(\"Number of Simulations\")\n",
    "plt.ylabel(\"Percentage\")\n",
    "plt.ylim(top=within_factor[-1] + 0.05)"
   ]
  },
  {
   "attachments": {
    "image.png": {
     "image/png": "[encoded data removed]"
    }
   },
   "cell_type": "markdown",
   "metadata": {},
   "source": [
    "![image.png](attachment:image.png)"
   ]
  },
  {
   "cell_type": "markdown",
   "metadata": {
    "colab_type": "text",
    "id": "lxXI410C2THi"
   },
   "source": [
    "# Part 2 (of Exercise)"
   ]
  },
  {
   "cell_type": "code",
   "execution_count": 5,
   "metadata": {},
   "outputs": [],
   "source": [
    "from collections import deque\n",
    "import time, os, sys\n",
    "from pickle import Pickler, Unpickler\n",
    "from random import shuffle\n",
    "\n",
    "\n",
    "class Coach():\n",
    "    \"\"\"\n",
    "    This class executes the self-play + learning. It uses the functions defined\n",
    "    in Game and NeuralNet. args are specified in main.py.\n",
    "    \"\"\"\n",
    "    def __init__(self, game, nnet, args):\n",
    "        self.game = game\n",
    "        self.nnet = nnet\n",
    "#         self.pnet = self.nnet.__class__(self.game)  # the competitor network\n",
    "        self.args = args\n",
    "        self.mcts = MCTS(self.game, self.nnet, self.args)\n",
    "        self.trainExamplesHistory = []    # history of examples from args.numItersForTrainExamplesHistory latest iterations\n",
    "        self.skipFirstSelfPlay = False    # can be overriden in loadTrainExamples()\n",
    "\n",
    "    def executeEpisode(self):\n",
    "        \"\"\"\n",
    "        This function executes one episode of self-play, starting with player 1.\n",
    "        As the game is played, each turn is added as a training example to\n",
    "        trainExamples. The game is played till the game ends. After the game\n",
    "        ends, the outcome of the game is used to assign values to each example\n",
    "        in trainExamples.\n",
    "\n",
    "        It uses a temp=1 if episodeStep < tempThreshold, and thereafter\n",
    "        uses temp=0.\n",
    "\n",
    "        Returns:\n",
    "            trainExamples: a list of examples of the form (canonicalBoard,pi,v)\n",
    "                           pi is the MCTS informed policy vector, v is +1 if\n",
    "                           the player eventually won the game, else -1.\n",
    "        \"\"\"\n",
    "        trainExamples = []\n",
    "        board = self.game.getStartState()\n",
    "#         self.curPlayer = 1\n",
    "        episodeStep = 0\n",
    "\n",
    "        while True:\n",
    "            episodeStep += 1\n",
    "            temp = int(episodeStep < self.args.tempThreshold)\n",
    "\n",
    "            pi = self.mcts.getActionProb(board, temp=temp)\n",
    "\n",
    "            action = np.random.choice(len(pi), p=pi)\n",
    "            next_board, reward = self.game.getNextState(board, action)\n",
    "            trainExamples.append([board, self.game.graph, pi, reward])\n",
    "\n",
    "            r = self.game.getGameEnded(next_board)\n",
    "            \n",
    "            if r!=0:\n",
    "                return [tuple(x) for x in trainExamples]\n",
    "            \n",
    "            board = next_board\n",
    "\n",
    "    def learn(self):\n",
    "        \"\"\"\n",
    "        Performs numIters iterations with numEps episodes of self-play in each\n",
    "        iteration. After every iteration, it retrains neural network with\n",
    "        examples in trainExamples (which has a maximum length of maxlenofQueue).\n",
    "        It then pits the new neural network against the old one and accepts it\n",
    "        only if it wins >= updateThreshold fraction of games.\n",
    "        \"\"\"\n",
    "        for i in range(1, self.args.numIters+1):\n",
    "            # bookkeeping\n",
    "#             print('------ITER ' + str(i) + '------')\n",
    "            # examples of the iteration\n",
    "            if not self.skipFirstSelfPlay or i>1:\n",
    "                iterationTrainExamples = deque([], maxlen=self.args.maxlenOfQueue)\n",
    "\n",
    "                for eps in range(self.args.numEps):\n",
    "                    self.mcts = MCTS(self.game, self.nnet, self.args)   # reset search tree\n",
    "                    iterationTrainExamples += self.executeEpisode()\n",
    "\n",
    "                self.trainExamplesHistory.append(iterationTrainExamples)\n",
    "                \n",
    "            if len(self.trainExamplesHistory) > self.args.numItersForTrainExamplesHistory:\n",
    "                print(\"len(trainExamplesHistory) =\", len(self.trainExamplesHistory), \" => remove the oldest trainExamples\")\n",
    "                self.trainExamplesHistory.pop(0)\n",
    "\n",
    "            # shuffle examples before training\n",
    "            trainExamples = []\n",
    "            for e in self.trainExamplesHistory:\n",
    "                trainExamples.extend(e)\n",
    "            shuffle(trainExamples)\n",
    "            \n",
    "            # train\n",
    "            # self.nnet.train(trainExamples)\n",
    "        return trainExamples\n"
   ]
  },
  {
   "cell_type": "code",
   "execution_count": 7,
   "metadata": {
    "colab": {},
    "colab_type": "code",
    "id": "OWO89Uw8mnTW"
   },
   "outputs": [],
   "source": [
    "import sys\n",
    "from tensorflow.keras.models import *\n",
    "from tensorflow.keras.layers import *\n",
    "from tensorflow.keras.optimizers import *"
   ]
  },
  {
   "cell_type": "code",
   "execution_count": 8,
   "metadata": {
    "colab": {},
    "colab_type": "code",
    "id": "BiQOBbM6mnTr"
   },
   "outputs": [],
   "source": [
    "class NNet():\n",
    "    def __init__(self, game, args):\n",
    "        self.b = game.num_node\n",
    "        self.action_size = game.getActionSize()\n",
    "        \n",
    "        self.create_net(game)\n",
    "\n",
    "    def train(self, examples):\n",
    "        \"\"\"\n",
    "        examples: list of examples, each example is of form (board, pi, v)\n",
    "        \"\"\"\n",
    "        print(\"Training...\")\n",
    "        input_boards, input_graphs, target_pis, target_vs = list(zip(*examples))\n",
    "        input_boards = np.asarray(input_boards)\n",
    "        input_graphs = np.asarray(input_graphs)\n",
    "        target_pis = np.asarray(target_pis)\n",
    "        target_vs = np.asarray(target_vs)\n",
    "        self.model.fit(x = [input_boards, input_graphs], y = [target_pis, target_vs], batch_size = args.batch_size, epochs = args.epochs)\n",
    "\n",
    "    def predict(self, board, graph):\n",
    "        \"\"\"\n",
    "        board: np array with board\n",
    "        \"\"\"\n",
    "        # preparing input\n",
    "        board = board[np.newaxis, :, :]\n",
    "        graph = graph[np.newaxis, :, :]\n",
    "\n",
    "        # run\n",
    "        pi, v = self.model.predict([board, graph])\n",
    "\n",
    "        #print('PREDICTION TIME TAKEN : {0:03f}'.format(time.time()-start))\n",
    "        return pi[0], v[0]\n",
    "    \n",
    "    def create_net(self, game):\n",
    "        # Neural Net\n",
    "        self.input_boards = Input(shape=game.getStartState().shape)    # s: batch_size x board_x x board_y\n",
    "\n",
    "        x_image = Reshape((args['num_node'], 2, 1))(self.input_boards)                # batch_size  x board_x x board_y x 1\n",
    "        h_conv1 = Activation('relu')(BatchNormalization(axis=3)(Conv2D(args.num_channels, 2, padding='same')(x_image)))         # batch_size  x board_x x board_y x num_channels\n",
    "        h_conv2 = Activation('relu')(BatchNormalization(axis=3)(Conv2D(args.num_channels, 2, padding='same')(h_conv1)))         # batch_size  x board_x x board_y x num_channels\n",
    "        h_conv3 = Activation('relu')(BatchNormalization(axis=3)(Conv2D(args.num_channels, 2, padding='same')(h_conv2)))        # batch_size  x (board_x) x (board_y) x num_channels\n",
    "        h_conv4 = Activation('relu')(BatchNormalization(axis=3)(Conv2D(args.num_channels, 2, padding='valid')(h_conv3)))        # batch_size  x (board_x-2) x (board_y-2) x num_channels\n",
    "        h_conv4_flat = Flatten()(h_conv4)       \n",
    "        s_fc1 = Dropout(args.dropout)(Activation('relu')(BatchNormalization(axis=1)(Dense(1024)(h_conv4_flat))))  # batch_size x 1024\n",
    "        s_fc2 = Dropout(args.dropout)(Activation('relu')(BatchNormalization(axis=1)(Dense(512)(s_fc1))))          # batch_size x 1024\n",
    "        self.pi = Dense(self.action_size, activation='softmax', name='pi')(s_fc2)   # batch_size x self.action_size\n",
    "        self.v = Dense(1, activation='tanh', name='v')(s_fc2)                    # batch_size x 1\n",
    "\n",
    "        self.model = Model(inputs=self.input_boards, outputs=[self.pi, self.v])\n",
    "        self.model.compile(loss=['categorical_crossentropy','mean_squared_error'], optimizer=Adam(args.lr))"
   ]
  },
  {
   "cell_type": "markdown",
   "metadata": {},
   "source": [
    "# Part 3 (of Exercise)\n",
    "\n",
    "Please note: Part 3 was ran on 8 nodes since we were approaching the deadline and wanted to submit some results. Otherwise, it would take a long time to build the training dataset and test games with more node."
   ]
  },
  {
   "cell_type": "code",
   "execution_count": 16,
   "metadata": {},
   "outputs": [],
   "source": [
    "def play_game_with_nn(args, nn):\n",
    "    game = TSPGame(args)\n",
    "    mcts = MCTS(game, nn, args)\n",
    "    state = game.getStartState()\n",
    "    mcts_reward = 0\n",
    "    mcts_actions = []\n",
    "    optimal_val, optimal_path = game.optimal_sol()\n",
    "    \n",
    "    while not game.getGameEnded(state):\n",
    "        action = np.argmax(mcts.getActionProb(state))\n",
    "        state, reward = game.getNextState(state, action)\n",
    "        mcts_actions += [action]\n",
    "        mcts_reward += reward\n",
    "        \n",
    "#     print('Optimal Solution:', optimal_val)\n",
    "#     print('Optimal Action:', optimal_path)\n",
    "#     print('MCTS Reward:', game.getActionSize() - mcts_reward)\n",
    "#     print('MCTS Action:', mcts_actions)\n",
    "    \n",
    "    return mcts.val, mcts.num_sim, optimal_val"
   ]
  },
  {
   "cell_type": "code",
   "execution_count": null,
   "metadata": {},
   "outputs": [],
   "source": [
    "# build training dataset\n",
    "t = TSPGame(args)\n",
    "n = NNet(t, args)\n",
    "data_set = []\n",
    "for i in range(100000):\n",
    "    print(\"Game:\", i)\n",
    "    c = Coach(t, n, args)\n",
    "    data_set.append(c.learn())\n",
    "    t = TSPGame(args)"
   ]
  },
  {
   "cell_type": "code",
   "execution_count": 14,
   "metadata": {
    "scrolled": false
   },
   "outputs": [
    {
     "name": "stdout",
     "output_type": "stream",
     "text": [
      "Training...\n",
      "Train on 14966 samples\n",
      "Epoch 1/100\n",
      "14966/14966 [==============================] - 109s 7ms/sample - loss: 1.4984 - pi_loss: 1.2308 - v_loss: 0.2673\n",
      "Epoch 2/100\n",
      "14966/14966 [==============================] - 106s 7ms/sample - loss: 1.1812 - pi_loss: 1.0795 - v_loss: 0.1016\n",
      "Epoch 3/100\n",
      "14966/14966 [==============================] - 106s 7ms/sample - loss: 1.1334 - pi_loss: 1.0512 - v_loss: 0.0822\n",
      "Epoch 4/100\n",
      "14966/14966 [==============================] - 108s 7ms/sample - loss: 1.1054 - pi_loss: 1.0313 - v_loss: 0.0742\n",
      "Epoch 5/100\n",
      "14966/14966 [==============================] - 107s 7ms/sample - loss: 1.0932 - pi_loss: 1.0233 - v_loss: 0.0698\n",
      "Epoch 6/100\n",
      "14966/14966 [==============================] - 107s 7ms/sample - loss: 1.0849 - pi_loss: 1.0170 - v_loss: 0.0678\n",
      "Epoch 7/100\n",
      "14966/14966 [==============================] - 108s 7ms/sample - loss: 1.0766 - pi_loss: 1.0098 - v_loss: 0.0668\n",
      "Epoch 8/100\n",
      "14966/14966 [==============================] - 107s 7ms/sample - loss: 1.0755 - pi_loss: 1.0100 - v_loss: 0.0655\n",
      "Epoch 9/100\n",
      "14966/14966 [==============================] - 107s 7ms/sample - loss: 1.0701 - pi_loss: 1.0045 - v_loss: 0.0656\n",
      "Epoch 10/100\n",
      "14966/14966 [==============================] - 107s 7ms/sample - loss: 1.0734 - pi_loss: 1.0083 - v_loss: 0.0650\n",
      "Epoch 11/100\n",
      "14966/14966 [==============================] - 107s 7ms/sample - loss: 1.0696 - pi_loss: 1.0051 - v_loss: 0.0645\n",
      "Epoch 12/100\n",
      "14966/14966 [==============================] - 107s 7ms/sample - loss: 1.0686 - pi_loss: 1.0044 - v_loss: 0.0642\n",
      "Epoch 13/100\n",
      "14966/14966 [==============================] - 106s 7ms/sample - loss: 1.0654 - pi_loss: 1.0015 - v_loss: 0.0639\n",
      "Epoch 14/100\n",
      "14966/14966 [==============================] - 105s 7ms/sample - loss: 1.0645 - pi_loss: 1.0007 - v_loss: 0.0638\n",
      "Epoch 15/100\n",
      "14966/14966 [==============================] - 106s 7ms/sample - loss: 1.0617 - pi_loss: 0.9986 - v_loss: 0.0632\n",
      "Epoch 16/100\n",
      "14966/14966 [==============================] - 106s 7ms/sample - loss: 1.0603 - pi_loss: 0.9967 - v_loss: 0.0636\n",
      "Epoch 17/100\n",
      "14966/14966 [==============================] - 106s 7ms/sample - loss: 1.0605 - pi_loss: 0.9972 - v_loss: 0.0633\n",
      "Epoch 18/100\n",
      "14966/14966 [==============================] - 107s 7ms/sample - loss: 1.0593 - pi_loss: 0.9964 - v_loss: 0.0630\n",
      "Epoch 19/100\n",
      "14966/14966 [==============================] - 107s 7ms/sample - loss: 1.0591 - pi_loss: 0.9960 - v_loss: 0.0631\n",
      "Epoch 20/100\n",
      "14966/14966 [==============================] - 105s 7ms/sample - loss: 1.0576 - pi_loss: 0.9949 - v_loss: 0.0626\n",
      "Epoch 21/100\n",
      "14966/14966 [==============================] - 105s 7ms/sample - loss: 1.0605 - pi_loss: 0.9977 - v_loss: 0.0627\n",
      "Epoch 22/100\n",
      "14966/14966 [==============================] - 106s 7ms/sample - loss: 1.0565 - pi_loss: 0.9940 - v_loss: 0.0624\n",
      "Epoch 23/100\n",
      "14966/14966 [==============================] - 105s 7ms/sample - loss: 1.0561 - pi_loss: 0.9936 - v_loss: 0.0624\n",
      "Epoch 24/100\n",
      "14966/14966 [==============================] - 106s 7ms/sample - loss: 1.0560 - pi_loss: 0.9935 - v_loss: 0.0625\n",
      "Epoch 25/100\n",
      "14966/14966 [==============================] - 106s 7ms/sample - loss: 1.0562 - pi_loss: 0.9933 - v_loss: 0.0629\n",
      "Epoch 26/100\n",
      "14966/14966 [==============================] - 105s 7ms/sample - loss: 1.0539 - pi_loss: 0.9916 - v_loss: 0.0623\n",
      "Epoch 27/100\n",
      "14966/14966 [==============================] - 106s 7ms/sample - loss: 1.0535 - pi_loss: 0.9910 - v_loss: 0.0624\n",
      "Epoch 28/100\n",
      "14966/14966 [==============================] - 106s 7ms/sample - loss: 1.0523 - pi_loss: 0.9903 - v_loss: 0.0621\n",
      "Epoch 29/100\n",
      "14966/14966 [==============================] - 104s 7ms/sample - loss: 1.0542 - pi_loss: 0.9923 - v_loss: 0.0619\n",
      "Epoch 30/100\n",
      "14966/14966 [==============================] - 105s 7ms/sample - loss: 1.0544 - pi_loss: 0.9919 - v_loss: 0.0626\n",
      "Epoch 31/100\n",
      "14966/14966 [==============================] - 105s 7ms/sample - loss: 1.0537 - pi_loss: 0.9912 - v_loss: 0.0624\n",
      "Epoch 32/100\n",
      "14966/14966 [==============================] - 105s 7ms/sample - loss: 1.0512 - pi_loss: 0.9894 - v_loss: 0.0618\n",
      "Epoch 33/100\n",
      "14966/14966 [==============================] - 107s 7ms/sample - loss: 1.0511 - pi_loss: 0.9892 - v_loss: 0.0618\n",
      "Epoch 34/100\n",
      "14966/14966 [==============================] - 106s 7ms/sample - loss: 1.0503 - pi_loss: 0.9887 - v_loss: 0.0616\n",
      "Epoch 35/100\n",
      "14966/14966 [==============================] - 105s 7ms/sample - loss: 1.0492 - pi_loss: 0.9875 - v_loss: 0.0617\n",
      "Epoch 36/100\n",
      "14966/14966 [==============================] - 107s 7ms/sample - loss: 1.0508 - pi_loss: 0.9889 - v_loss: 0.0618\n",
      "Epoch 37/100\n",
      "14966/14966 [==============================] - 107s 7ms/sample - loss: 1.0532 - pi_loss: 0.9914 - v_loss: 0.0619\n",
      "Epoch 38/100\n",
      "14966/14966 [==============================] - 107s 7ms/sample - loss: 1.0495 - pi_loss: 0.9879 - v_loss: 0.0616\n",
      "Epoch 39/100\n",
      "14966/14966 [==============================] - 106s 7ms/sample - loss: 1.0496 - pi_loss: 0.9881 - v_loss: 0.0615\n",
      "Epoch 40/100\n",
      "14966/14966 [==============================] - 106s 7ms/sample - loss: 1.0515 - pi_loss: 0.9896 - v_loss: 0.0618\n",
      "Epoch 41/100\n",
      "14966/14966 [==============================] - 106s 7ms/sample - loss: 1.0491 - pi_loss: 0.9873 - v_loss: 0.0617\n",
      "Epoch 42/100\n",
      "14966/14966 [==============================] - 106s 7ms/sample - loss: 1.0488 - pi_loss: 0.9873 - v_loss: 0.0615\n",
      "Epoch 43/100\n",
      "14966/14966 [==============================] - 106s 7ms/sample - loss: 1.0488 - pi_loss: 0.9872 - v_loss: 0.0616\n",
      "Epoch 44/100\n",
      "14966/14966 [==============================] - 106s 7ms/sample - loss: 1.0476 - pi_loss: 0.9861 - v_loss: 0.0615\n",
      "Epoch 45/100\n",
      "14966/14966 [==============================] - 106s 7ms/sample - loss: 1.0470 - pi_loss: 0.9857 - v_loss: 0.0612\n",
      "Epoch 46/100\n",
      "14966/14966 [==============================] - 105s 7ms/sample - loss: 1.0465 - pi_loss: 0.9854 - v_loss: 0.0611\n",
      "Epoch 47/100\n",
      "14966/14966 [==============================] - 106s 7ms/sample - loss: 1.0469 - pi_loss: 0.9853 - v_loss: 0.0616\n",
      "Epoch 48/100\n",
      "14966/14966 [==============================] - 106s 7ms/sample - loss: 1.0460 - pi_loss: 0.9846 - v_loss: 0.0614\n",
      "Epoch 49/100\n",
      "14966/14966 [==============================] - 105s 7ms/sample - loss: 1.0464 - pi_loss: 0.9852 - v_loss: 0.0612\n",
      "Epoch 50/100\n",
      "14966/14966 [==============================] - 106s 7ms/sample - loss: 1.0466 - pi_loss: 0.9852 - v_loss: 0.0614\n",
      "Epoch 51/100\n",
      "14966/14966 [==============================] - 105s 7ms/sample - loss: 1.0453 - pi_loss: 0.9841 - v_loss: 0.0613\n",
      "Epoch 52/100\n",
      "14966/14966 [==============================] - 105s 7ms/sample - loss: 1.0472 - pi_loss: 0.9855 - v_loss: 0.0617\n",
      "Epoch 53/100\n",
      "14966/14966 [==============================] - 106s 7ms/sample - loss: 1.0442 - pi_loss: 0.9830 - v_loss: 0.0612\n",
      "Epoch 54/100\n",
      "14966/14966 [==============================] - 106s 7ms/sample - loss: 1.0465 - pi_loss: 0.9854 - v_loss: 0.0611\n",
      "Epoch 55/100\n",
      "14966/14966 [==============================] - 106s 7ms/sample - loss: 1.0471 - pi_loss: 0.9858 - v_loss: 0.0612\n",
      "Epoch 56/100\n",
      "14966/14966 [==============================] - 105s 7ms/sample - loss: 1.0448 - pi_loss: 0.9835 - v_loss: 0.0612\n",
      "Epoch 57/100\n",
      "14966/14966 [==============================] - 106s 7ms/sample - loss: 1.0446 - pi_loss: 0.9836 - v_loss: 0.0610\n",
      "Epoch 58/100\n",
      "14966/14966 [==============================] - 105s 7ms/sample - loss: 1.0431 - pi_loss: 0.9822 - v_loss: 0.0610\n",
      "Epoch 59/100\n",
      "14966/14966 [==============================] - 106s 7ms/sample - loss: 1.0429 - pi_loss: 0.9818 - v_loss: 0.0611\n",
      "Epoch 60/100\n",
      "14966/14966 [==============================] - 106s 7ms/sample - loss: 1.0439 - pi_loss: 0.9832 - v_loss: 0.0608\n",
      "Epoch 61/100\n",
      "14966/14966 [==============================] - 105s 7ms/sample - loss: 1.0435 - pi_loss: 0.9823 - v_loss: 0.0612\n",
      "Epoch 62/100\n",
      "14966/14966 [==============================] - 106s 7ms/sample - loss: 1.0437 - pi_loss: 0.9826 - v_loss: 0.0611\n",
      "Epoch 63/100\n",
      "14966/14966 [==============================] - 106s 7ms/sample - loss: 1.0431 - pi_loss: 0.9820 - v_loss: 0.0611\n",
      "Epoch 64/100\n",
      "14966/14966 [==============================] - 106s 7ms/sample - loss: 1.0417 - pi_loss: 0.9807 - v_loss: 0.0611\n",
      "Epoch 65/100\n",
      "14966/14966 [==============================] - 106s 7ms/sample - loss: 1.0428 - pi_loss: 0.9820 - v_loss: 0.0608\n",
      "Epoch 66/100\n",
      "14966/14966 [==============================] - 106s 7ms/sample - loss: 1.0426 - pi_loss: 0.9818 - v_loss: 0.0608\n",
      "Epoch 67/100\n",
      "14966/14966 [==============================] - 106s 7ms/sample - loss: 1.0414 - pi_loss: 0.9805 - v_loss: 0.0609\n",
      "Epoch 68/100\n",
      "14966/14966 [==============================] - 105s 7ms/sample - loss: 1.0424 - pi_loss: 0.9816 - v_loss: 0.0609\n",
      "Epoch 69/100\n",
      "14966/14966 [==============================] - 106s 7ms/sample - loss: 1.0427 - pi_loss: 0.9818 - v_loss: 0.0610\n",
      "Epoch 70/100\n",
      "14966/14966 [==============================] - 106s 7ms/sample - loss: 1.0406 - pi_loss: 0.9796 - v_loss: 0.0611\n",
      "Epoch 71/100\n",
      "14966/14966 [==============================] - 105s 7ms/sample - loss: 1.0419 - pi_loss: 0.9809 - v_loss: 0.0610\n",
      "Epoch 72/100\n",
      "14966/14966 [==============================] - 106s 7ms/sample - loss: 1.0417 - pi_loss: 0.9807 - v_loss: 0.0610\n",
      "Epoch 73/100\n",
      "14966/14966 [==============================] - 106s 7ms/sample - loss: 1.0393 - pi_loss: 0.9786 - v_loss: 0.0609\n",
      "Epoch 74/100\n",
      "14966/14966 [==============================] - 106s 7ms/sample - loss: 1.0410 - pi_loss: 0.9802 - v_loss: 0.0607\n",
      "Epoch 75/100\n",
      "14966/14966 [==============================] - 106s 7ms/sample - loss: 1.0424 - pi_loss: 0.9815 - v_loss: 0.0609\n",
      "Epoch 76/100\n",
      "14966/14966 [==============================] - 106s 7ms/sample - loss: 1.0424 - pi_loss: 0.9816 - v_loss: 0.0608\n",
      "Epoch 77/100\n",
      "14966/14966 [==============================] - 106s 7ms/sample - loss: 1.0411 - pi_loss: 0.9803 - v_loss: 0.0608\n",
      "Epoch 78/100\n",
      "14966/14966 [==============================] - 106s 7ms/sample - loss: 1.0390 - pi_loss: 0.9782 - v_loss: 0.0608\n",
      "Epoch 79/100\n",
      "14966/14966 [==============================] - 106s 7ms/sample - loss: 1.0392 - pi_loss: 0.9786 - v_loss: 0.0606\n",
      "Epoch 80/100\n",
      "14966/14966 [==============================] - 105s 7ms/sample - loss: 1.0401 - pi_loss: 0.9793 - v_loss: 0.0608\n",
      "Epoch 81/100\n",
      "14966/14966 [==============================] - 106s 7ms/sample - loss: 1.0398 - pi_loss: 0.9792 - v_loss: 0.0606\n",
      "Epoch 82/100\n",
      "14966/14966 [==============================] - 106s 7ms/sample - loss: 1.0397 - pi_loss: 0.9790 - v_loss: 0.0608\n",
      "Epoch 83/100\n",
      "14966/14966 [==============================] - 107s 7ms/sample - loss: 1.0389 - pi_loss: 0.9779 - v_loss: 0.0608\n",
      "Epoch 84/100\n",
      "14966/14966 [==============================] - 108s 7ms/sample - loss: 1.0399 - pi_loss: 0.9793 - v_loss: 0.0607\n",
      "Epoch 85/100\n",
      "14966/14966 [==============================] - 106s 7ms/sample - loss: 1.0370 - pi_loss: 0.9762 - v_loss: 0.0608\n",
      "Epoch 86/100\n",
      "14966/14966 [==============================] - 106s 7ms/sample - loss: 1.0398 - pi_loss: 0.9792 - v_loss: 0.0606\n",
      "Epoch 87/100\n",
      "14966/14966 [==============================] - 106s 7ms/sample - loss: 1.0395 - pi_loss: 0.9788 - v_loss: 0.0607\n",
      "Epoch 88/100\n",
      "14966/14966 [==============================] - 106s 7ms/sample - loss: 1.0383 - pi_loss: 0.9777 - v_loss: 0.0605\n",
      "Epoch 89/100\n",
      "14966/14966 [==============================] - 106s 7ms/sample - loss: 1.0393 - pi_loss: 0.9787 - v_loss: 0.0607\n",
      "Epoch 90/100\n",
      "14966/14966 [==============================] - 106s 7ms/sample - loss: 1.0385 - pi_loss: 0.9777 - v_loss: 0.0607\n",
      "Epoch 91/100\n",
      "14966/14966 [==============================] - 106s 7ms/sample - loss: 1.0384 - pi_loss: 0.9777 - v_loss: 0.0607\n",
      "Epoch 92/100\n",
      "14966/14966 [==============================] - 106s 7ms/sample - loss: 1.0378 - pi_loss: 0.9772 - v_loss: 0.0607\n",
      "Epoch 93/100\n",
      "14966/14966 [==============================] - 107s 7ms/sample - loss: 1.0394 - pi_loss: 0.9787 - v_loss: 0.0607\n",
      "Epoch 94/100\n",
      "14966/14966 [==============================] - 106s 7ms/sample - loss: 1.0386 - pi_loss: 0.9781 - v_loss: 0.0605\n",
      "Epoch 95/100\n",
      "14966/14966 [==============================] - 106s 7ms/sample - loss: 1.0377 - pi_loss: 0.9771 - v_loss: 0.0606\n",
      "Epoch 96/100\n",
      "14966/14966 [==============================] - 105s 7ms/sample - loss: 1.0386 - pi_loss: 0.9779 - v_loss: 0.0607\n",
      "Epoch 97/100\n",
      "14966/14966 [==============================] - 106s 7ms/sample - loss: 1.0385 - pi_loss: 0.9779 - v_loss: 0.0607\n",
      "Epoch 98/100\n",
      "14966/14966 [==============================] - 107s 7ms/sample - loss: 1.0377 - pi_loss: 0.9772 - v_loss: 0.0606\n",
      "Epoch 99/100\n",
      "14966/14966 [==============================] - 107s 7ms/sample - loss: 1.0377 - pi_loss: 0.9771 - v_loss: 0.0605\n",
      "Epoch 100/100\n",
      "14966/14966 [==============================] - 106s 7ms/sample - loss: 1.0388 - pi_loss: 0.9781 - v_loss: 0.0607\n"
     ]
    }
   ],
   "source": [
    "# shuffle data and train network\n",
    "trainExamples = []\n",
    "for d in data_set:\n",
    "    for e in d:\n",
    "        trainExamples.append(e)\n",
    "shuffle(trainExamples)\n",
    "n.train(trainExamples)"
   ]
  },
  {
   "cell_type": "code",
   "execution_count": 33,
   "metadata": {},
   "outputs": [
    {
     "name": "stdout",
     "output_type": "stream",
     "text": [
      "0\n",
      "10\n",
      "20\n",
      "30\n",
      "40\n",
      "50\n",
      "60\n",
      "70\n",
      "80\n",
      "90\n"
     ]
    }
   ],
   "source": [
    "# code to run MCTS on 100 games both with and without nn to compare between performances\n",
    "results = {}\n",
    "results_nn = {}\n",
    "optimal_vals = []\n",
    "optimal_vals_nn = []\n",
    "for i in range(100):\n",
    "    if i % 10 == 0:\n",
    "        print(i)\n",
    "    val, num_s, optimal_reward = play_game(args)\n",
    "    val_nn, num_s_nn, optimal_reward_nn = play_game_with_nn(args, n)\n",
    "    results[i] = {tuple(num_s): val}\n",
    "    optimal_vals += [optimal_reward]\n",
    "    results_nn[i] = {tuple(num_s_nn): val_nn}\n",
    "    optimal_vals += [optimal_reward]\n",
    "    optimal_vals_nn += [optimal_reward_nn]"
   ]
  },
  {
   "cell_type": "code",
   "execution_count": 35,
   "metadata": {},
   "outputs": [],
   "source": [
    "# process results\n",
    "import pandas as pd\n",
    "columns = list(range(100))\n",
    "df = pd.DataFrame(columns=columns)\n",
    "i = 0\n",
    "for result in results:\n",
    "    sims = list(results[result].keys())[0]\n",
    "    vals = list(results[result].values())[0]\n",
    "    col = np.zeros(5000)\n",
    "    j = 0\n",
    "    for sim in sims:\n",
    "        col[sim] = vals[j]\n",
    "        j += 1\n",
    "    df[i] = col\n",
    "    i += 1\n",
    "\n",
    "df_nn = pd.DataFrame(columns=columns)    \n",
    "i = 0\n",
    "for result in results_nn:\n",
    "    sims = list(results_nn[result].keys())[0]\n",
    "    vals = list(results_nn[result].values())[0]\n",
    "    col = np.zeros(5000)\n",
    "    j = 0\n",
    "    for sim in sims:\n",
    "        col[sim] = vals[j]\n",
    "        j += 1\n",
    "    df_nn[i] = col\n",
    "    i += 1"
   ]
  },
  {
   "cell_type": "code",
   "execution_count": 36,
   "metadata": {},
   "outputs": [
    {
     "name": "stderr",
     "output_type": "stream",
     "text": [
      "/opt/conda/lib/python3.7/site-packages/ipykernel_launcher.py:2: FutureWarning: The pandas.np module is deprecated and will be removed from pandas in a future version. Import numpy directly instead\n",
      "  \n",
      "/opt/conda/lib/python3.7/site-packages/ipykernel_launcher.py:6: FutureWarning: The pandas.np module is deprecated and will be removed from pandas in a future version. Import numpy directly instead\n",
      "  \n"
     ]
    }
   ],
   "source": [
    "for col in df:\n",
    "    df[col] = df[col].replace(0.0, pd.np.nan)\n",
    "    df[col] = df[col].ffill()\n",
    "    \n",
    "for col in df_nn:\n",
    "    df_nn[col] = df_nn[col].replace(0.0, pd.np.nan)\n",
    "    df_nn[col] = df_nn[col].ffill()"
   ]
  },
  {
   "cell_type": "code",
   "execution_count": 37,
   "metadata": {},
   "outputs": [],
   "source": [
    "df.drop(df.head(1).index, inplace=True)\n",
    "df_nn.drop(df.head(1).index, inplace=True)"
   ]
  },
  {
   "cell_type": "code",
   "execution_count": 38,
   "metadata": {},
   "outputs": [],
   "source": [
    "opt_val_row = pd.DataFrame([pd.Series(optimal_vals)], index=[\"opt\"], dtype=float)\n",
    "opt_val_row_nn = pd.DataFrame([pd.Series(optimal_vals_nn)], index=[\"opt\"], dtype=float)\n",
    "df = pd.concat([opt_val_row, df])\n",
    "df_nn = pd.concat([opt_val_row_nn, df_nn])\n",
    "df.to_csv(\"100-games-to-compare.csv\")\n",
    "df_nn.to_csv(\"100-games-with-nn-to-compare.csv\")"
   ]
  },
  {
   "cell_type": "code",
   "execution_count": 39,
   "metadata": {},
   "outputs": [],
   "source": [
    "opt_vals = df[0:1]\n",
    "opt_vals = opt_vals.iloc[0]\n",
    "df.drop(df.head(1).index, inplace=True)\n",
    "\n",
    "opt_vals_nn = df_nn[0:1]\n",
    "opt_vals_nn = opt_vals_nn.iloc[0]\n",
    "df_nn.drop(df_nn.head(1).index, inplace=True)"
   ]
  },
  {
   "cell_type": "code",
   "execution_count": 40,
   "metadata": {},
   "outputs": [],
   "source": [
    "df = df.reset_index(drop=True)\n",
    "df_nn = df_nn.reset_index(drop=True)"
   ]
  },
  {
   "cell_type": "code",
   "execution_count": 41,
   "metadata": {},
   "outputs": [],
   "source": [
    "# check how many siulations fall within 1.1 factor of optimal solution\n",
    "within_factor = []\n",
    "for i in range(4999):\n",
    "    row = list(df.iloc[i])\n",
    "    counter = 0\n",
    "    for j in range(len(row)):\n",
    "        if row[j] / opt_vals[j] <= 1.1:\n",
    "            counter += 1\n",
    "    within_factor += [counter / 100]\n",
    "\n",
    "within_factor_nn = []\n",
    "for i in range(4999):\n",
    "    row = list(df_nn.iloc[i])\n",
    "    counter = 0\n",
    "    for j in range(len(row)):\n",
    "        if row[j] / opt_vals_nn[j] <= 1.1:\n",
    "            counter += 1\n",
    "    within_factor_nn += [counter / 100]"
   ]
  },
  {
   "cell_type": "code",
   "execution_count": 46,
   "metadata": {},
   "outputs": [
    {
     "data": {
      "text/plain": [
       "<matplotlib.legend.Legend at 0x7f5f1a979050>"
      ]
     },
     "execution_count": 46,
     "metadata": {},
     "output_type": "execute_result"
    },
    {
     "data": {
      "image/png": "[encoded data removed]",
      "text/plain": [
       "<Figure size 432x288 with 1 Axes>"
      ]
     },
     "metadata": {
      "needs_background": "light"
     },
     "output_type": "display_data"
    }
   ],
   "source": [
    "# plot graphs\n",
    "import matplotlib.pyplot as plt\n",
    "\n",
    "plt.plot(np.array(range(4999)), within_factor, \"r\")\n",
    "plt.plot(np.array(range(4999)), within_factor_nn, \"b\")\n",
    "plt.title(\"Percentage of random instances which MCTS solved within a 1.1 factor of the optimal solution as a function of simulations\")\n",
    "plt.xlabel(\"Number of Simulations\")\n",
    "plt.ylabel(\"Percentage\")\n",
    "plt.legend([\"MCTS without NN\", \"MCTS with NN\"])"
   ]
  },
  {
   "cell_type": "markdown",
   "metadata": {},
   "source": [
    "- From the graph above, we can see that MCTS without NN performed better than MCTS with NN.\n",
    "- Due to time limitation, we couldn't improve model's performance, but we believe that a different architecture and training dataset might have provided better results."
   ]
  },
  {
   "cell_type": "code",
   "execution_count": null,
   "metadata": {},
   "outputs": [],
   "source": []
  }
 ],
 "metadata": {
  "accelerator": "GPU",
  "colab": {
   "collapsed_sections": [],
   "name": "Experiments.ipynb",
   "provenance": []
  },
  "kernelspec": {
   "display_name": "Python 3",
   "language": "python",
   "name": "python3"
  },
  "language_info": {
   "codemirror_mode": {
    "name": "ipython",
    "version": 3
   },
   "file_extension": ".py",
   "mimetype": "text/x-python",
   "name": "python",
   "nbconvert_exporter": "python",
   "pygments_lexer": "ipython3",
   "version": "3.6.8"
  }
 },
 "nbformat": 4,
 "nbformat_minor": 1
}
